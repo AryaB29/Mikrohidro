{
 "cells": [
  {
   "cell_type": "markdown",
   "metadata": {},
   "source": [
    "# I. Nama Kelompok Kerja Praktik "
   ]
  },
  {
   "cell_type": "markdown",
   "metadata": {},
   "source": [
    "Nama :\n",
    "1. Silvia Shera Auliya Anwar\n",
    "2. Arya Bandoro\n",
    "3. Mochammad Ilham Akbar\n",
    "4. Muhammad Sulthoni Arma\n",
    "5. Luluk Kurniawati \n",
    "6. Raychan Abyqa Fariza\n",
    "7. Nadilla Ayu Novanti\n",
    "8. Nabil Al Ghofur Taqwa"
   ]
  },
  {
   "cell_type": "markdown",
   "metadata": {},
   "source": [
    "# II. Data Objective\n"
   ]
  },
  {
   "cell_type": "markdown",
   "metadata": {},
   "source": [
    "Untuk Menentukan Hypotesis Testing terhadap data, serta menerapkan prinsip machine learning dengan metode linear regression untuk melakukan prediksi data selanjutnya"
   ]
  },
  {
   "cell_type": "markdown",
   "metadata": {},
   "source": [
    "# III. Dataset"
   ]
  },
  {
   "cell_type": "markdown",
   "metadata": {},
   "source": [
    "Adapun Data Yang Digunakan adalah data survey potensi mikrohidro di Desa Durian Kabupaten Probolinggo, yang dilaksanakan pada tanggal 4,5 September dan 24 Oktober 2021"
   ]
  },
  {
   "cell_type": "markdown",
   "metadata": {},
   "source": [
    "# IV. Algoritma & Source Code Python"
   ]
  },
  {
   "cell_type": "markdown",
   "metadata": {},
   "source": [
    "## IV.A Algoritma Pemograman "
   ]
  },
  {
   "cell_type": "markdown",
   "metadata": {},
   "source": [
    "Adapun Algoritma Pemograman kali ini adalah dengan menggunakan pemograman python, dimana akan dilaksanakan dengan cara melatih (traning) data yang digunakan dan juga akan dihasilkan sebuah prediksi yang mana dalam hal ini prediksi tersebut dapat digunakan sebagai dasaran untuk melakukan pembangunan berkelanjutan mikrohidro selanjutnya, adapun algoritma digunakan adalah dengan menggunakan beberapa library dasar diantaranya adalah pandas, numpy, scikit-learn, dan juga plotly untuk melakukan visualisasi data yang didapatkan "
   ]
  },
  {
   "cell_type": "markdown",
   "metadata": {},
   "source": [
    "## IV.B Source Code"
   ]
  },
  {
   "cell_type": "markdown",
   "metadata": {},
   "source": [
    "### IV.B.I Import Pustaka Yang Dibutuhkan "
   ]
  },
  {
   "cell_type": "code",
   "execution_count": 1,
   "metadata": {},
   "outputs": [],
   "source": [
    "import pandas as pd\n",
    "import numpy as np\n",
    "import plotly as plt"
   ]
  },
  {
   "cell_type": "markdown",
   "metadata": {},
   "source": [
    "### IV.B.II Data Loading"
   ]
  },
  {
   "cell_type": "code",
   "execution_count": 2,
   "metadata": {},
   "outputs": [],
   "source": [
    "data_awal = pd.read_csv(r'C:\\Users\\Acer\\OneDrive\\Documents\\Mikrohdro\\Coding\\Data Mikrohidro - Data Sungai.csv')"
   ]
  },
  {
   "cell_type": "code",
   "execution_count": 3,
   "metadata": {},
   "outputs": [
    {
     "data": {
      "text/html": [
       "<div>\n",
       "<style scoped>\n",
       "    .dataframe tbody tr th:only-of-type {\n",
       "        vertical-align: middle;\n",
       "    }\n",
       "\n",
       "    .dataframe tbody tr th {\n",
       "        vertical-align: top;\n",
       "    }\n",
       "\n",
       "    .dataframe thead th {\n",
       "        text-align: right;\n",
       "    }\n",
       "</style>\n",
       "<table border=\"1\" class=\"dataframe\">\n",
       "  <thead>\n",
       "    <tr style=\"text-align: right;\">\n",
       "      <th></th>\n",
       "      <th>Titik</th>\n",
       "      <th>kedalaman</th>\n",
       "      <th>lebar (cm)</th>\n",
       "      <th>Kecepatan aliran (Liter/menit) pada h=10cm</th>\n",
       "      <th>Unnamed: 4</th>\n",
       "      <th>Unnamed: 5</th>\n",
       "      <th>Unnamed: 6</th>\n",
       "      <th>Unnamed: 7</th>\n",
       "      <th>Unnamed: 8</th>\n",
       "      <th>Unnamed: 9</th>\n",
       "      <th>...</th>\n",
       "      <th>Kecepatan aliran (Liter/menit) pada h= 15 cm</th>\n",
       "      <th>Unnamed: 14</th>\n",
       "      <th>Unnamed: 15</th>\n",
       "      <th>Unnamed: 16</th>\n",
       "      <th>Unnamed: 17</th>\n",
       "      <th>Unnamed: 18</th>\n",
       "      <th>Unnamed: 19</th>\n",
       "      <th>Unnamed: 20</th>\n",
       "      <th>Unnamed: 21</th>\n",
       "      <th>Unnamed: 22</th>\n",
       "    </tr>\n",
       "  </thead>\n",
       "  <tbody>\n",
       "    <tr>\n",
       "      <th>0</th>\n",
       "      <td>NaN</td>\n",
       "      <td>NaN</td>\n",
       "      <td>NaN</td>\n",
       "      <td>1.00</td>\n",
       "      <td>NaN</td>\n",
       "      <td>2.00</td>\n",
       "      <td>NaN</td>\n",
       "      <td>3.00</td>\n",
       "      <td>NaN</td>\n",
       "      <td>4.00</td>\n",
       "      <td>...</td>\n",
       "      <td>1.00</td>\n",
       "      <td>NaN</td>\n",
       "      <td>2.00</td>\n",
       "      <td>NaN</td>\n",
       "      <td>3.00</td>\n",
       "      <td>NaN</td>\n",
       "      <td>4.00</td>\n",
       "      <td>NaN</td>\n",
       "      <td>5.00</td>\n",
       "      <td>NaN</td>\n",
       "    </tr>\n",
       "    <tr>\n",
       "      <th>1</th>\n",
       "      <td>1.0</td>\n",
       "      <td>NaN</td>\n",
       "      <td>NaN</td>\n",
       "      <td>1.77</td>\n",
       "      <td>0.31</td>\n",
       "      <td>0.25</td>\n",
       "      <td>0.14</td>\n",
       "      <td>0.09</td>\n",
       "      <td>0.20</td>\n",
       "      <td>0.12</td>\n",
       "      <td>...</td>\n",
       "      <td>0.25</td>\n",
       "      <td>0.07</td>\n",
       "      <td>0.07</td>\n",
       "      <td>0.08</td>\n",
       "      <td>0.10</td>\n",
       "      <td>0.43</td>\n",
       "      <td>0.12</td>\n",
       "      <td>0.09</td>\n",
       "      <td>0.12</td>\n",
       "      <td>0.07</td>\n",
       "    </tr>\n",
       "    <tr>\n",
       "      <th>2</th>\n",
       "      <td>2.0</td>\n",
       "      <td>NaN</td>\n",
       "      <td>NaN</td>\n",
       "      <td>0.14</td>\n",
       "      <td>0.09</td>\n",
       "      <td>0.12</td>\n",
       "      <td>0.76</td>\n",
       "      <td>0.13</td>\n",
       "      <td>0.13</td>\n",
       "      <td>0.14</td>\n",
       "      <td>...</td>\n",
       "      <td>0.18</td>\n",
       "      <td>0.18</td>\n",
       "      <td>0.16</td>\n",
       "      <td>0.17</td>\n",
       "      <td>0.15</td>\n",
       "      <td>0.07</td>\n",
       "      <td>0.09</td>\n",
       "      <td>0.12</td>\n",
       "      <td>0.10</td>\n",
       "      <td>0.07</td>\n",
       "    </tr>\n",
       "    <tr>\n",
       "      <th>3</th>\n",
       "      <td>3.0</td>\n",
       "      <td>NaN</td>\n",
       "      <td>1025.0</td>\n",
       "      <td>0.07</td>\n",
       "      <td>0.09</td>\n",
       "      <td>0.09</td>\n",
       "      <td>0.07</td>\n",
       "      <td>0.13</td>\n",
       "      <td>0.14</td>\n",
       "      <td>0.07</td>\n",
       "      <td>...</td>\n",
       "      <td>0.07</td>\n",
       "      <td>0.11</td>\n",
       "      <td>0.09</td>\n",
       "      <td>0.12</td>\n",
       "      <td>0.08</td>\n",
       "      <td>0.10</td>\n",
       "      <td>0.09</td>\n",
       "      <td>0.08</td>\n",
       "      <td>0.11</td>\n",
       "      <td>0.16</td>\n",
       "    </tr>\n",
       "    <tr>\n",
       "      <th>4</th>\n",
       "      <td>4.0</td>\n",
       "      <td>47.0</td>\n",
       "      <td>147.0</td>\n",
       "      <td>0.12</td>\n",
       "      <td>0.12</td>\n",
       "      <td>0.11</td>\n",
       "      <td>0.11</td>\n",
       "      <td>0.14</td>\n",
       "      <td>0.14</td>\n",
       "      <td>0.09</td>\n",
       "      <td>...</td>\n",
       "      <td>1.71</td>\n",
       "      <td>0.09</td>\n",
       "      <td>0.09</td>\n",
       "      <td>0.10</td>\n",
       "      <td>0.11</td>\n",
       "      <td>0.11</td>\n",
       "      <td>0.29</td>\n",
       "      <td>0.19</td>\n",
       "      <td>0.10</td>\n",
       "      <td>0.13</td>\n",
       "    </tr>\n",
       "    <tr>\n",
       "      <th>5</th>\n",
       "      <td>5.0</td>\n",
       "      <td>29.0</td>\n",
       "      <td>86.0</td>\n",
       "      <td>1.85</td>\n",
       "      <td>0.11</td>\n",
       "      <td>0.08</td>\n",
       "      <td>0.17</td>\n",
       "      <td>0.23</td>\n",
       "      <td>0.16</td>\n",
       "      <td>1.93</td>\n",
       "      <td>...</td>\n",
       "      <td>0.71</td>\n",
       "      <td>0.09</td>\n",
       "      <td>0.10</td>\n",
       "      <td>0.20</td>\n",
       "      <td>0.48</td>\n",
       "      <td>0.20</td>\n",
       "      <td>0.08</td>\n",
       "      <td>0.13</td>\n",
       "      <td>0.15</td>\n",
       "      <td>0.15</td>\n",
       "    </tr>\n",
       "    <tr>\n",
       "      <th>6</th>\n",
       "      <td>6.0</td>\n",
       "      <td>75.0</td>\n",
       "      <td>206.0</td>\n",
       "      <td>0.19</td>\n",
       "      <td>0.12</td>\n",
       "      <td>0.14</td>\n",
       "      <td>0.14</td>\n",
       "      <td>0.30</td>\n",
       "      <td>0.30</td>\n",
       "      <td>0.20</td>\n",
       "      <td>...</td>\n",
       "      <td>0.23</td>\n",
       "      <td>0.08</td>\n",
       "      <td>0.24</td>\n",
       "      <td>0.24</td>\n",
       "      <td>0.38</td>\n",
       "      <td>0.38</td>\n",
       "      <td>3.13</td>\n",
       "      <td>0.26</td>\n",
       "      <td>2.03</td>\n",
       "      <td>2.03</td>\n",
       "    </tr>\n",
       "    <tr>\n",
       "      <th>7</th>\n",
       "      <td>7.0</td>\n",
       "      <td>28.0</td>\n",
       "      <td>690.0</td>\n",
       "      <td>0.10</td>\n",
       "      <td>0.10</td>\n",
       "      <td>0.46</td>\n",
       "      <td>0.47</td>\n",
       "      <td>1.50</td>\n",
       "      <td>1.50</td>\n",
       "      <td>0.49</td>\n",
       "      <td>...</td>\n",
       "      <td>0.20</td>\n",
       "      <td>0.17</td>\n",
       "      <td>0.60</td>\n",
       "      <td>0.11</td>\n",
       "      <td>0.21</td>\n",
       "      <td>0.13</td>\n",
       "      <td>0.29</td>\n",
       "      <td>0.18</td>\n",
       "      <td>0.12</td>\n",
       "      <td>0.21</td>\n",
       "    </tr>\n",
       "  </tbody>\n",
       "</table>\n",
       "<p>8 rows × 23 columns</p>\n",
       "</div>"
      ],
      "text/plain": [
       "   Titik  kedalaman  lebar (cm)  Kecepatan aliran (Liter/menit) pada h=10cm  \\\n",
       "0    NaN        NaN         NaN                                        1.00   \n",
       "1    1.0        NaN         NaN                                        1.77   \n",
       "2    2.0        NaN         NaN                                        0.14   \n",
       "3    3.0        NaN      1025.0                                        0.07   \n",
       "4    4.0       47.0       147.0                                        0.12   \n",
       "5    5.0       29.0        86.0                                        1.85   \n",
       "6    6.0       75.0       206.0                                        0.19   \n",
       "7    7.0       28.0       690.0                                        0.10   \n",
       "\n",
       "   Unnamed: 4  Unnamed: 5  Unnamed: 6  Unnamed: 7  Unnamed: 8  Unnamed: 9  \\\n",
       "0         NaN        2.00         NaN        3.00         NaN        4.00   \n",
       "1        0.31        0.25        0.14        0.09        0.20        0.12   \n",
       "2        0.09        0.12        0.76        0.13        0.13        0.14   \n",
       "3        0.09        0.09        0.07        0.13        0.14        0.07   \n",
       "4        0.12        0.11        0.11        0.14        0.14        0.09   \n",
       "5        0.11        0.08        0.17        0.23        0.16        1.93   \n",
       "6        0.12        0.14        0.14        0.30        0.30        0.20   \n",
       "7        0.10        0.46        0.47        1.50        1.50        0.49   \n",
       "\n",
       "   ...  Kecepatan aliran (Liter/menit) pada h= 15 cm  Unnamed: 14  \\\n",
       "0  ...                                          1.00          NaN   \n",
       "1  ...                                          0.25         0.07   \n",
       "2  ...                                          0.18         0.18   \n",
       "3  ...                                          0.07         0.11   \n",
       "4  ...                                          1.71         0.09   \n",
       "5  ...                                          0.71         0.09   \n",
       "6  ...                                          0.23         0.08   \n",
       "7  ...                                          0.20         0.17   \n",
       "\n",
       "   Unnamed: 15  Unnamed: 16  Unnamed: 17  Unnamed: 18  Unnamed: 19  \\\n",
       "0         2.00          NaN         3.00          NaN         4.00   \n",
       "1         0.07         0.08         0.10         0.43         0.12   \n",
       "2         0.16         0.17         0.15         0.07         0.09   \n",
       "3         0.09         0.12         0.08         0.10         0.09   \n",
       "4         0.09         0.10         0.11         0.11         0.29   \n",
       "5         0.10         0.20         0.48         0.20         0.08   \n",
       "6         0.24         0.24         0.38         0.38         3.13   \n",
       "7         0.60         0.11         0.21         0.13         0.29   \n",
       "\n",
       "   Unnamed: 20  Unnamed: 21  Unnamed: 22  \n",
       "0          NaN         5.00          NaN  \n",
       "1         0.09         0.12         0.07  \n",
       "2         0.12         0.10         0.07  \n",
       "3         0.08         0.11         0.16  \n",
       "4         0.19         0.10         0.13  \n",
       "5         0.13         0.15         0.15  \n",
       "6         0.26         2.03         2.03  \n",
       "7         0.18         0.12         0.21  \n",
       "\n",
       "[8 rows x 23 columns]"
      ]
     },
     "execution_count": 3,
     "metadata": {},
     "output_type": "execute_result"
    }
   ],
   "source": [
    "data_awal"
   ]
  },
  {
   "cell_type": "code",
   "execution_count": 4,
   "metadata": {},
   "outputs": [
    {
     "name": "stdout",
     "output_type": "stream",
     "text": [
      "<class 'pandas.core.frame.DataFrame'>\n",
      "RangeIndex: 8 entries, 0 to 7\n",
      "Data columns (total 23 columns):\n",
      " #   Column                                        Non-Null Count  Dtype  \n",
      "---  ------                                        --------------  -----  \n",
      " 0   Titik                                         7 non-null      float64\n",
      " 1   kedalaman                                     4 non-null      float64\n",
      " 2   lebar (cm)                                    5 non-null      float64\n",
      " 3   Kecepatan aliran (Liter/menit) pada h=10cm    8 non-null      float64\n",
      " 4   Unnamed: 4                                    7 non-null      float64\n",
      " 5   Unnamed: 5                                    8 non-null      float64\n",
      " 6   Unnamed: 6                                    7 non-null      float64\n",
      " 7   Unnamed: 7                                    8 non-null      float64\n",
      " 8   Unnamed: 8                                    7 non-null      float64\n",
      " 9   Unnamed: 9                                    8 non-null      float64\n",
      " 10  Unnamed: 10                                   7 non-null      float64\n",
      " 11  Unnamed: 11                                   8 non-null      float64\n",
      " 12  Unnamed: 12                                   7 non-null      float64\n",
      " 13  Kecepatan aliran (Liter/menit) pada h= 15 cm  8 non-null      float64\n",
      " 14  Unnamed: 14                                   7 non-null      float64\n",
      " 15  Unnamed: 15                                   8 non-null      float64\n",
      " 16  Unnamed: 16                                   7 non-null      float64\n",
      " 17  Unnamed: 17                                   8 non-null      float64\n",
      " 18  Unnamed: 18                                   7 non-null      float64\n",
      " 19  Unnamed: 19                                   8 non-null      float64\n",
      " 20  Unnamed: 20                                   7 non-null      float64\n",
      " 21  Unnamed: 21                                   8 non-null      float64\n",
      " 22  Unnamed: 22                                   7 non-null      float64\n",
      "dtypes: float64(23)\n",
      "memory usage: 1.6 KB\n"
     ]
    }
   ],
   "source": [
    "data_awal.info()"
   ]
  },
  {
   "cell_type": "code",
   "execution_count": 5,
   "metadata": {},
   "outputs": [
    {
     "data": {
      "text/html": [
       "<div>\n",
       "<style scoped>\n",
       "    .dataframe tbody tr th:only-of-type {\n",
       "        vertical-align: middle;\n",
       "    }\n",
       "\n",
       "    .dataframe tbody tr th {\n",
       "        vertical-align: top;\n",
       "    }\n",
       "\n",
       "    .dataframe thead th {\n",
       "        text-align: right;\n",
       "    }\n",
       "</style>\n",
       "<table border=\"1\" class=\"dataframe\">\n",
       "  <thead>\n",
       "    <tr style=\"text-align: right;\">\n",
       "      <th></th>\n",
       "      <th>count</th>\n",
       "      <th>mean</th>\n",
       "      <th>std</th>\n",
       "      <th>min</th>\n",
       "      <th>25%</th>\n",
       "      <th>50%</th>\n",
       "      <th>75%</th>\n",
       "      <th>max</th>\n",
       "    </tr>\n",
       "  </thead>\n",
       "  <tbody>\n",
       "    <tr>\n",
       "      <th>Titik</th>\n",
       "      <td>7.0</td>\n",
       "      <td>4.000000</td>\n",
       "      <td>2.160247</td>\n",
       "      <td>1.00</td>\n",
       "      <td>2.5000</td>\n",
       "      <td>4.000</td>\n",
       "      <td>5.5000</td>\n",
       "      <td>7.00</td>\n",
       "    </tr>\n",
       "    <tr>\n",
       "      <th>kedalaman</th>\n",
       "      <td>4.0</td>\n",
       "      <td>44.750000</td>\n",
       "      <td>21.975365</td>\n",
       "      <td>28.00</td>\n",
       "      <td>28.7500</td>\n",
       "      <td>38.000</td>\n",
       "      <td>54.0000</td>\n",
       "      <td>75.00</td>\n",
       "    </tr>\n",
       "    <tr>\n",
       "      <th>lebar (cm)</th>\n",
       "      <td>5.0</td>\n",
       "      <td>430.800000</td>\n",
       "      <td>409.335681</td>\n",
       "      <td>86.00</td>\n",
       "      <td>147.0000</td>\n",
       "      <td>206.000</td>\n",
       "      <td>690.0000</td>\n",
       "      <td>1025.00</td>\n",
       "    </tr>\n",
       "    <tr>\n",
       "      <th>Kecepatan aliran (Liter/menit) pada h=10cm</th>\n",
       "      <td>8.0</td>\n",
       "      <td>0.655000</td>\n",
       "      <td>0.775352</td>\n",
       "      <td>0.07</td>\n",
       "      <td>0.1150</td>\n",
       "      <td>0.165</td>\n",
       "      <td>1.1925</td>\n",
       "      <td>1.85</td>\n",
       "    </tr>\n",
       "    <tr>\n",
       "      <th>Unnamed: 4</th>\n",
       "      <td>7.0</td>\n",
       "      <td>0.134286</td>\n",
       "      <td>0.078498</td>\n",
       "      <td>0.09</td>\n",
       "      <td>0.0950</td>\n",
       "      <td>0.110</td>\n",
       "      <td>0.1200</td>\n",
       "      <td>0.31</td>\n",
       "    </tr>\n",
       "    <tr>\n",
       "      <th>Unnamed: 5</th>\n",
       "      <td>8.0</td>\n",
       "      <td>0.406250</td>\n",
       "      <td>0.656222</td>\n",
       "      <td>0.08</td>\n",
       "      <td>0.1050</td>\n",
       "      <td>0.130</td>\n",
       "      <td>0.3025</td>\n",
       "      <td>2.00</td>\n",
       "    </tr>\n",
       "    <tr>\n",
       "      <th>Unnamed: 6</th>\n",
       "      <td>7.0</td>\n",
       "      <td>0.265714</td>\n",
       "      <td>0.254745</td>\n",
       "      <td>0.07</td>\n",
       "      <td>0.1250</td>\n",
       "      <td>0.140</td>\n",
       "      <td>0.3200</td>\n",
       "      <td>0.76</td>\n",
       "    </tr>\n",
       "    <tr>\n",
       "      <th>Unnamed: 7</th>\n",
       "      <td>8.0</td>\n",
       "      <td>0.690000</td>\n",
       "      <td>1.045097</td>\n",
       "      <td>0.09</td>\n",
       "      <td>0.1300</td>\n",
       "      <td>0.185</td>\n",
       "      <td>0.6000</td>\n",
       "      <td>3.00</td>\n",
       "    </tr>\n",
       "    <tr>\n",
       "      <th>Unnamed: 8</th>\n",
       "      <td>7.0</td>\n",
       "      <td>0.367143</td>\n",
       "      <td>0.503015</td>\n",
       "      <td>0.13</td>\n",
       "      <td>0.1400</td>\n",
       "      <td>0.160</td>\n",
       "      <td>0.2500</td>\n",
       "      <td>1.50</td>\n",
       "    </tr>\n",
       "    <tr>\n",
       "      <th>Unnamed: 9</th>\n",
       "      <td>8.0</td>\n",
       "      <td>0.880000</td>\n",
       "      <td>1.406962</td>\n",
       "      <td>0.07</td>\n",
       "      <td>0.1125</td>\n",
       "      <td>0.170</td>\n",
       "      <td>0.8500</td>\n",
       "      <td>4.00</td>\n",
       "    </tr>\n",
       "    <tr>\n",
       "      <th>Unnamed: 10</th>\n",
       "      <td>7.0</td>\n",
       "      <td>0.192857</td>\n",
       "      <td>0.136835</td>\n",
       "      <td>0.09</td>\n",
       "      <td>0.1150</td>\n",
       "      <td>0.160</td>\n",
       "      <td>0.1900</td>\n",
       "      <td>0.49</td>\n",
       "    </tr>\n",
       "    <tr>\n",
       "      <th>Unnamed: 11</th>\n",
       "      <td>8.0</td>\n",
       "      <td>0.856250</td>\n",
       "      <td>1.720182</td>\n",
       "      <td>0.09</td>\n",
       "      <td>0.0900</td>\n",
       "      <td>0.110</td>\n",
       "      <td>0.4050</td>\n",
       "      <td>5.00</td>\n",
       "    </tr>\n",
       "    <tr>\n",
       "      <th>Unnamed: 12</th>\n",
       "      <td>7.0</td>\n",
       "      <td>0.368571</td>\n",
       "      <td>0.525022</td>\n",
       "      <td>0.07</td>\n",
       "      <td>0.0850</td>\n",
       "      <td>0.140</td>\n",
       "      <td>0.3400</td>\n",
       "      <td>1.52</td>\n",
       "    </tr>\n",
       "    <tr>\n",
       "      <th>Kecepatan aliran (Liter/menit) pada h= 15 cm</th>\n",
       "      <td>8.0</td>\n",
       "      <td>0.543750</td>\n",
       "      <td>0.567650</td>\n",
       "      <td>0.07</td>\n",
       "      <td>0.1950</td>\n",
       "      <td>0.240</td>\n",
       "      <td>0.7825</td>\n",
       "      <td>1.71</td>\n",
       "    </tr>\n",
       "    <tr>\n",
       "      <th>Unnamed: 14</th>\n",
       "      <td>7.0</td>\n",
       "      <td>0.112857</td>\n",
       "      <td>0.044240</td>\n",
       "      <td>0.07</td>\n",
       "      <td>0.0850</td>\n",
       "      <td>0.090</td>\n",
       "      <td>0.1400</td>\n",
       "      <td>0.18</td>\n",
       "    </tr>\n",
       "    <tr>\n",
       "      <th>Unnamed: 15</th>\n",
       "      <td>8.0</td>\n",
       "      <td>0.418750</td>\n",
       "      <td>0.662408</td>\n",
       "      <td>0.07</td>\n",
       "      <td>0.0900</td>\n",
       "      <td>0.130</td>\n",
       "      <td>0.3300</td>\n",
       "      <td>2.00</td>\n",
       "    </tr>\n",
       "    <tr>\n",
       "      <th>Unnamed: 16</th>\n",
       "      <td>7.0</td>\n",
       "      <td>0.145714</td>\n",
       "      <td>0.058838</td>\n",
       "      <td>0.08</td>\n",
       "      <td>0.1050</td>\n",
       "      <td>0.120</td>\n",
       "      <td>0.1850</td>\n",
       "      <td>0.24</td>\n",
       "    </tr>\n",
       "    <tr>\n",
       "      <th>Unnamed: 17</th>\n",
       "      <td>8.0</td>\n",
       "      <td>0.563750</td>\n",
       "      <td>0.994800</td>\n",
       "      <td>0.08</td>\n",
       "      <td>0.1075</td>\n",
       "      <td>0.180</td>\n",
       "      <td>0.4050</td>\n",
       "      <td>3.00</td>\n",
       "    </tr>\n",
       "    <tr>\n",
       "      <th>Unnamed: 18</th>\n",
       "      <td>7.0</td>\n",
       "      <td>0.202857</td>\n",
       "      <td>0.144420</td>\n",
       "      <td>0.07</td>\n",
       "      <td>0.1050</td>\n",
       "      <td>0.130</td>\n",
       "      <td>0.2900</td>\n",
       "      <td>0.43</td>\n",
       "    </tr>\n",
       "    <tr>\n",
       "      <th>Unnamed: 19</th>\n",
       "      <td>8.0</td>\n",
       "      <td>1.011250</td>\n",
       "      <td>1.595578</td>\n",
       "      <td>0.08</td>\n",
       "      <td>0.0900</td>\n",
       "      <td>0.205</td>\n",
       "      <td>1.0000</td>\n",
       "      <td>4.00</td>\n",
       "    </tr>\n",
       "    <tr>\n",
       "      <th>Unnamed: 20</th>\n",
       "      <td>7.0</td>\n",
       "      <td>0.150000</td>\n",
       "      <td>0.063770</td>\n",
       "      <td>0.08</td>\n",
       "      <td>0.1050</td>\n",
       "      <td>0.130</td>\n",
       "      <td>0.1850</td>\n",
       "      <td>0.26</td>\n",
       "    </tr>\n",
       "    <tr>\n",
       "      <th>Unnamed: 21</th>\n",
       "      <td>8.0</td>\n",
       "      <td>0.966250</td>\n",
       "      <td>1.762109</td>\n",
       "      <td>0.10</td>\n",
       "      <td>0.1075</td>\n",
       "      <td>0.120</td>\n",
       "      <td>0.6200</td>\n",
       "      <td>5.00</td>\n",
       "    </tr>\n",
       "    <tr>\n",
       "      <th>Unnamed: 22</th>\n",
       "      <td>7.0</td>\n",
       "      <td>0.402857</td>\n",
       "      <td>0.719229</td>\n",
       "      <td>0.07</td>\n",
       "      <td>0.1000</td>\n",
       "      <td>0.150</td>\n",
       "      <td>0.1850</td>\n",
       "      <td>2.03</td>\n",
       "    </tr>\n",
       "  </tbody>\n",
       "</table>\n",
       "</div>"
      ],
      "text/plain": [
       "                                              count        mean         std  \\\n",
       "Titik                                           7.0    4.000000    2.160247   \n",
       "kedalaman                                       4.0   44.750000   21.975365   \n",
       "lebar (cm)                                      5.0  430.800000  409.335681   \n",
       "Kecepatan aliran (Liter/menit) pada h=10cm      8.0    0.655000    0.775352   \n",
       "Unnamed: 4                                      7.0    0.134286    0.078498   \n",
       "Unnamed: 5                                      8.0    0.406250    0.656222   \n",
       "Unnamed: 6                                      7.0    0.265714    0.254745   \n",
       "Unnamed: 7                                      8.0    0.690000    1.045097   \n",
       "Unnamed: 8                                      7.0    0.367143    0.503015   \n",
       "Unnamed: 9                                      8.0    0.880000    1.406962   \n",
       "Unnamed: 10                                     7.0    0.192857    0.136835   \n",
       "Unnamed: 11                                     8.0    0.856250    1.720182   \n",
       "Unnamed: 12                                     7.0    0.368571    0.525022   \n",
       "Kecepatan aliran (Liter/menit) pada h= 15 cm    8.0    0.543750    0.567650   \n",
       "Unnamed: 14                                     7.0    0.112857    0.044240   \n",
       "Unnamed: 15                                     8.0    0.418750    0.662408   \n",
       "Unnamed: 16                                     7.0    0.145714    0.058838   \n",
       "Unnamed: 17                                     8.0    0.563750    0.994800   \n",
       "Unnamed: 18                                     7.0    0.202857    0.144420   \n",
       "Unnamed: 19                                     8.0    1.011250    1.595578   \n",
       "Unnamed: 20                                     7.0    0.150000    0.063770   \n",
       "Unnamed: 21                                     8.0    0.966250    1.762109   \n",
       "Unnamed: 22                                     7.0    0.402857    0.719229   \n",
       "\n",
       "                                                min       25%      50%  \\\n",
       "Titik                                          1.00    2.5000    4.000   \n",
       "kedalaman                                     28.00   28.7500   38.000   \n",
       "lebar (cm)                                    86.00  147.0000  206.000   \n",
       "Kecepatan aliran (Liter/menit) pada h=10cm     0.07    0.1150    0.165   \n",
       "Unnamed: 4                                     0.09    0.0950    0.110   \n",
       "Unnamed: 5                                     0.08    0.1050    0.130   \n",
       "Unnamed: 6                                     0.07    0.1250    0.140   \n",
       "Unnamed: 7                                     0.09    0.1300    0.185   \n",
       "Unnamed: 8                                     0.13    0.1400    0.160   \n",
       "Unnamed: 9                                     0.07    0.1125    0.170   \n",
       "Unnamed: 10                                    0.09    0.1150    0.160   \n",
       "Unnamed: 11                                    0.09    0.0900    0.110   \n",
       "Unnamed: 12                                    0.07    0.0850    0.140   \n",
       "Kecepatan aliran (Liter/menit) pada h= 15 cm   0.07    0.1950    0.240   \n",
       "Unnamed: 14                                    0.07    0.0850    0.090   \n",
       "Unnamed: 15                                    0.07    0.0900    0.130   \n",
       "Unnamed: 16                                    0.08    0.1050    0.120   \n",
       "Unnamed: 17                                    0.08    0.1075    0.180   \n",
       "Unnamed: 18                                    0.07    0.1050    0.130   \n",
       "Unnamed: 19                                    0.08    0.0900    0.205   \n",
       "Unnamed: 20                                    0.08    0.1050    0.130   \n",
       "Unnamed: 21                                    0.10    0.1075    0.120   \n",
       "Unnamed: 22                                    0.07    0.1000    0.150   \n",
       "\n",
       "                                                   75%      max  \n",
       "Titik                                           5.5000     7.00  \n",
       "kedalaman                                      54.0000    75.00  \n",
       "lebar (cm)                                    690.0000  1025.00  \n",
       "Kecepatan aliran (Liter/menit) pada h=10cm      1.1925     1.85  \n",
       "Unnamed: 4                                      0.1200     0.31  \n",
       "Unnamed: 5                                      0.3025     2.00  \n",
       "Unnamed: 6                                      0.3200     0.76  \n",
       "Unnamed: 7                                      0.6000     3.00  \n",
       "Unnamed: 8                                      0.2500     1.50  \n",
       "Unnamed: 9                                      0.8500     4.00  \n",
       "Unnamed: 10                                     0.1900     0.49  \n",
       "Unnamed: 11                                     0.4050     5.00  \n",
       "Unnamed: 12                                     0.3400     1.52  \n",
       "Kecepatan aliran (Liter/menit) pada h= 15 cm    0.7825     1.71  \n",
       "Unnamed: 14                                     0.1400     0.18  \n",
       "Unnamed: 15                                     0.3300     2.00  \n",
       "Unnamed: 16                                     0.1850     0.24  \n",
       "Unnamed: 17                                     0.4050     3.00  \n",
       "Unnamed: 18                                     0.2900     0.43  \n",
       "Unnamed: 19                                     1.0000     4.00  \n",
       "Unnamed: 20                                     0.1850     0.26  \n",
       "Unnamed: 21                                     0.6200     5.00  \n",
       "Unnamed: 22                                     0.1850     2.03  "
      ]
     },
     "execution_count": 5,
     "metadata": {},
     "output_type": "execute_result"
    }
   ],
   "source": [
    "data_awal.describe().transpose()"
   ]
  },
  {
   "cell_type": "markdown",
   "metadata": {},
   "source": [
    "### IV.B.III Data Exploration"
   ]
  },
  {
   "cell_type": "code",
   "execution_count": 6,
   "metadata": {},
   "outputs": [
    {
     "data": {
      "text/html": [
       "<div>\n",
       "<style scoped>\n",
       "    .dataframe tbody tr th:only-of-type {\n",
       "        vertical-align: middle;\n",
       "    }\n",
       "\n",
       "    .dataframe tbody tr th {\n",
       "        vertical-align: top;\n",
       "    }\n",
       "\n",
       "    .dataframe thead th {\n",
       "        text-align: right;\n",
       "    }\n",
       "</style>\n",
       "<table border=\"1\" class=\"dataframe\">\n",
       "  <thead>\n",
       "    <tr style=\"text-align: right;\">\n",
       "      <th></th>\n",
       "      <th>Titik</th>\n",
       "      <th>kedalaman</th>\n",
       "      <th>lebar (cm)</th>\n",
       "      <th>Kecepatan aliran (Liter/menit) pada h=10cm</th>\n",
       "      <th>Unnamed: 4</th>\n",
       "      <th>Unnamed: 5</th>\n",
       "      <th>Unnamed: 6</th>\n",
       "      <th>Unnamed: 7</th>\n",
       "      <th>Unnamed: 8</th>\n",
       "      <th>Unnamed: 9</th>\n",
       "      <th>...</th>\n",
       "      <th>Kecepatan aliran (Liter/menit) pada h= 15 cm</th>\n",
       "      <th>Unnamed: 14</th>\n",
       "      <th>Unnamed: 15</th>\n",
       "      <th>Unnamed: 16</th>\n",
       "      <th>Unnamed: 17</th>\n",
       "      <th>Unnamed: 18</th>\n",
       "      <th>Unnamed: 19</th>\n",
       "      <th>Unnamed: 20</th>\n",
       "      <th>Unnamed: 21</th>\n",
       "      <th>Unnamed: 22</th>\n",
       "    </tr>\n",
       "  </thead>\n",
       "  <tbody>\n",
       "    <tr>\n",
       "      <th>0</th>\n",
       "      <td>NaN</td>\n",
       "      <td>NaN</td>\n",
       "      <td>NaN</td>\n",
       "      <td>1.00</td>\n",
       "      <td>NaN</td>\n",
       "      <td>2.00</td>\n",
       "      <td>NaN</td>\n",
       "      <td>3.00</td>\n",
       "      <td>NaN</td>\n",
       "      <td>4.00</td>\n",
       "      <td>...</td>\n",
       "      <td>1.00</td>\n",
       "      <td>NaN</td>\n",
       "      <td>2.00</td>\n",
       "      <td>NaN</td>\n",
       "      <td>3.00</td>\n",
       "      <td>NaN</td>\n",
       "      <td>4.00</td>\n",
       "      <td>NaN</td>\n",
       "      <td>5.00</td>\n",
       "      <td>NaN</td>\n",
       "    </tr>\n",
       "    <tr>\n",
       "      <th>1</th>\n",
       "      <td>1.0</td>\n",
       "      <td>NaN</td>\n",
       "      <td>NaN</td>\n",
       "      <td>1.77</td>\n",
       "      <td>0.31</td>\n",
       "      <td>0.25</td>\n",
       "      <td>0.14</td>\n",
       "      <td>0.09</td>\n",
       "      <td>0.20</td>\n",
       "      <td>0.12</td>\n",
       "      <td>...</td>\n",
       "      <td>0.25</td>\n",
       "      <td>0.07</td>\n",
       "      <td>0.07</td>\n",
       "      <td>0.08</td>\n",
       "      <td>0.10</td>\n",
       "      <td>0.43</td>\n",
       "      <td>0.12</td>\n",
       "      <td>0.09</td>\n",
       "      <td>0.12</td>\n",
       "      <td>0.07</td>\n",
       "    </tr>\n",
       "    <tr>\n",
       "      <th>2</th>\n",
       "      <td>2.0</td>\n",
       "      <td>NaN</td>\n",
       "      <td>NaN</td>\n",
       "      <td>0.14</td>\n",
       "      <td>0.09</td>\n",
       "      <td>0.12</td>\n",
       "      <td>0.76</td>\n",
       "      <td>0.13</td>\n",
       "      <td>0.13</td>\n",
       "      <td>0.14</td>\n",
       "      <td>...</td>\n",
       "      <td>0.18</td>\n",
       "      <td>0.18</td>\n",
       "      <td>0.16</td>\n",
       "      <td>0.17</td>\n",
       "      <td>0.15</td>\n",
       "      <td>0.07</td>\n",
       "      <td>0.09</td>\n",
       "      <td>0.12</td>\n",
       "      <td>0.10</td>\n",
       "      <td>0.07</td>\n",
       "    </tr>\n",
       "    <tr>\n",
       "      <th>3</th>\n",
       "      <td>3.0</td>\n",
       "      <td>NaN</td>\n",
       "      <td>1025.0</td>\n",
       "      <td>0.07</td>\n",
       "      <td>0.09</td>\n",
       "      <td>0.09</td>\n",
       "      <td>0.07</td>\n",
       "      <td>0.13</td>\n",
       "      <td>0.14</td>\n",
       "      <td>0.07</td>\n",
       "      <td>...</td>\n",
       "      <td>0.07</td>\n",
       "      <td>0.11</td>\n",
       "      <td>0.09</td>\n",
       "      <td>0.12</td>\n",
       "      <td>0.08</td>\n",
       "      <td>0.10</td>\n",
       "      <td>0.09</td>\n",
       "      <td>0.08</td>\n",
       "      <td>0.11</td>\n",
       "      <td>0.16</td>\n",
       "    </tr>\n",
       "    <tr>\n",
       "      <th>4</th>\n",
       "      <td>4.0</td>\n",
       "      <td>47.0</td>\n",
       "      <td>147.0</td>\n",
       "      <td>0.12</td>\n",
       "      <td>0.12</td>\n",
       "      <td>0.11</td>\n",
       "      <td>0.11</td>\n",
       "      <td>0.14</td>\n",
       "      <td>0.14</td>\n",
       "      <td>0.09</td>\n",
       "      <td>...</td>\n",
       "      <td>1.71</td>\n",
       "      <td>0.09</td>\n",
       "      <td>0.09</td>\n",
       "      <td>0.10</td>\n",
       "      <td>0.11</td>\n",
       "      <td>0.11</td>\n",
       "      <td>0.29</td>\n",
       "      <td>0.19</td>\n",
       "      <td>0.10</td>\n",
       "      <td>0.13</td>\n",
       "    </tr>\n",
       "    <tr>\n",
       "      <th>5</th>\n",
       "      <td>5.0</td>\n",
       "      <td>29.0</td>\n",
       "      <td>86.0</td>\n",
       "      <td>1.85</td>\n",
       "      <td>0.11</td>\n",
       "      <td>0.08</td>\n",
       "      <td>0.17</td>\n",
       "      <td>0.23</td>\n",
       "      <td>0.16</td>\n",
       "      <td>1.93</td>\n",
       "      <td>...</td>\n",
       "      <td>0.71</td>\n",
       "      <td>0.09</td>\n",
       "      <td>0.10</td>\n",
       "      <td>0.20</td>\n",
       "      <td>0.48</td>\n",
       "      <td>0.20</td>\n",
       "      <td>0.08</td>\n",
       "      <td>0.13</td>\n",
       "      <td>0.15</td>\n",
       "      <td>0.15</td>\n",
       "    </tr>\n",
       "    <tr>\n",
       "      <th>6</th>\n",
       "      <td>6.0</td>\n",
       "      <td>75.0</td>\n",
       "      <td>206.0</td>\n",
       "      <td>0.19</td>\n",
       "      <td>0.12</td>\n",
       "      <td>0.14</td>\n",
       "      <td>0.14</td>\n",
       "      <td>0.30</td>\n",
       "      <td>0.30</td>\n",
       "      <td>0.20</td>\n",
       "      <td>...</td>\n",
       "      <td>0.23</td>\n",
       "      <td>0.08</td>\n",
       "      <td>0.24</td>\n",
       "      <td>0.24</td>\n",
       "      <td>0.38</td>\n",
       "      <td>0.38</td>\n",
       "      <td>3.13</td>\n",
       "      <td>0.26</td>\n",
       "      <td>2.03</td>\n",
       "      <td>2.03</td>\n",
       "    </tr>\n",
       "    <tr>\n",
       "      <th>7</th>\n",
       "      <td>7.0</td>\n",
       "      <td>28.0</td>\n",
       "      <td>690.0</td>\n",
       "      <td>0.10</td>\n",
       "      <td>0.10</td>\n",
       "      <td>0.46</td>\n",
       "      <td>0.47</td>\n",
       "      <td>1.50</td>\n",
       "      <td>1.50</td>\n",
       "      <td>0.49</td>\n",
       "      <td>...</td>\n",
       "      <td>0.20</td>\n",
       "      <td>0.17</td>\n",
       "      <td>0.60</td>\n",
       "      <td>0.11</td>\n",
       "      <td>0.21</td>\n",
       "      <td>0.13</td>\n",
       "      <td>0.29</td>\n",
       "      <td>0.18</td>\n",
       "      <td>0.12</td>\n",
       "      <td>0.21</td>\n",
       "    </tr>\n",
       "  </tbody>\n",
       "</table>\n",
       "<p>8 rows × 23 columns</p>\n",
       "</div>"
      ],
      "text/plain": [
       "   Titik  kedalaman  lebar (cm)  Kecepatan aliran (Liter/menit) pada h=10cm  \\\n",
       "0    NaN        NaN         NaN                                        1.00   \n",
       "1    1.0        NaN         NaN                                        1.77   \n",
       "2    2.0        NaN         NaN                                        0.14   \n",
       "3    3.0        NaN      1025.0                                        0.07   \n",
       "4    4.0       47.0       147.0                                        0.12   \n",
       "5    5.0       29.0        86.0                                        1.85   \n",
       "6    6.0       75.0       206.0                                        0.19   \n",
       "7    7.0       28.0       690.0                                        0.10   \n",
       "\n",
       "   Unnamed: 4  Unnamed: 5  Unnamed: 6  Unnamed: 7  Unnamed: 8  Unnamed: 9  \\\n",
       "0         NaN        2.00         NaN        3.00         NaN        4.00   \n",
       "1        0.31        0.25        0.14        0.09        0.20        0.12   \n",
       "2        0.09        0.12        0.76        0.13        0.13        0.14   \n",
       "3        0.09        0.09        0.07        0.13        0.14        0.07   \n",
       "4        0.12        0.11        0.11        0.14        0.14        0.09   \n",
       "5        0.11        0.08        0.17        0.23        0.16        1.93   \n",
       "6        0.12        0.14        0.14        0.30        0.30        0.20   \n",
       "7        0.10        0.46        0.47        1.50        1.50        0.49   \n",
       "\n",
       "   ...  Kecepatan aliran (Liter/menit) pada h= 15 cm  Unnamed: 14  \\\n",
       "0  ...                                          1.00          NaN   \n",
       "1  ...                                          0.25         0.07   \n",
       "2  ...                                          0.18         0.18   \n",
       "3  ...                                          0.07         0.11   \n",
       "4  ...                                          1.71         0.09   \n",
       "5  ...                                          0.71         0.09   \n",
       "6  ...                                          0.23         0.08   \n",
       "7  ...                                          0.20         0.17   \n",
       "\n",
       "   Unnamed: 15  Unnamed: 16  Unnamed: 17  Unnamed: 18  Unnamed: 19  \\\n",
       "0         2.00          NaN         3.00          NaN         4.00   \n",
       "1         0.07         0.08         0.10         0.43         0.12   \n",
       "2         0.16         0.17         0.15         0.07         0.09   \n",
       "3         0.09         0.12         0.08         0.10         0.09   \n",
       "4         0.09         0.10         0.11         0.11         0.29   \n",
       "5         0.10         0.20         0.48         0.20         0.08   \n",
       "6         0.24         0.24         0.38         0.38         3.13   \n",
       "7         0.60         0.11         0.21         0.13         0.29   \n",
       "\n",
       "   Unnamed: 20  Unnamed: 21  Unnamed: 22  \n",
       "0          NaN         5.00          NaN  \n",
       "1         0.09         0.12         0.07  \n",
       "2         0.12         0.10         0.07  \n",
       "3         0.08         0.11         0.16  \n",
       "4         0.19         0.10         0.13  \n",
       "5         0.13         0.15         0.15  \n",
       "6         0.26         2.03         2.03  \n",
       "7         0.18         0.12         0.21  \n",
       "\n",
       "[8 rows x 23 columns]"
      ]
     },
     "execution_count": 6,
     "metadata": {},
     "output_type": "execute_result"
    }
   ],
   "source": [
    "data_awal"
   ]
  },
  {
   "cell_type": "code",
   "execution_count": 7,
   "metadata": {},
   "outputs": [],
   "source": [
    "k = data_awal.drop(columns=['Titik','kedalaman','lebar (cm)'])"
   ]
  },
  {
   "cell_type": "code",
   "execution_count": 8,
   "metadata": {},
   "outputs": [
    {
     "data": {
      "text/html": [
       "<div>\n",
       "<style scoped>\n",
       "    .dataframe tbody tr th:only-of-type {\n",
       "        vertical-align: middle;\n",
       "    }\n",
       "\n",
       "    .dataframe tbody tr th {\n",
       "        vertical-align: top;\n",
       "    }\n",
       "\n",
       "    .dataframe thead th {\n",
       "        text-align: right;\n",
       "    }\n",
       "</style>\n",
       "<table border=\"1\" class=\"dataframe\">\n",
       "  <thead>\n",
       "    <tr style=\"text-align: right;\">\n",
       "      <th></th>\n",
       "      <th>Kecepatan aliran (Liter/menit) pada h=10cm</th>\n",
       "      <th>Unnamed: 4</th>\n",
       "      <th>Unnamed: 5</th>\n",
       "      <th>Unnamed: 6</th>\n",
       "      <th>Unnamed: 7</th>\n",
       "      <th>Unnamed: 8</th>\n",
       "      <th>Unnamed: 9</th>\n",
       "      <th>Unnamed: 10</th>\n",
       "      <th>Unnamed: 11</th>\n",
       "      <th>Unnamed: 12</th>\n",
       "      <th>Kecepatan aliran (Liter/menit) pada h= 15 cm</th>\n",
       "      <th>Unnamed: 14</th>\n",
       "      <th>Unnamed: 15</th>\n",
       "      <th>Unnamed: 16</th>\n",
       "      <th>Unnamed: 17</th>\n",
       "      <th>Unnamed: 18</th>\n",
       "      <th>Unnamed: 19</th>\n",
       "      <th>Unnamed: 20</th>\n",
       "      <th>Unnamed: 21</th>\n",
       "      <th>Unnamed: 22</th>\n",
       "    </tr>\n",
       "  </thead>\n",
       "  <tbody>\n",
       "    <tr>\n",
       "      <th>0</th>\n",
       "      <td>1.00</td>\n",
       "      <td>NaN</td>\n",
       "      <td>2.00</td>\n",
       "      <td>NaN</td>\n",
       "      <td>3.00</td>\n",
       "      <td>NaN</td>\n",
       "      <td>4.00</td>\n",
       "      <td>NaN</td>\n",
       "      <td>5.00</td>\n",
       "      <td>NaN</td>\n",
       "      <td>1.00</td>\n",
       "      <td>NaN</td>\n",
       "      <td>2.00</td>\n",
       "      <td>NaN</td>\n",
       "      <td>3.00</td>\n",
       "      <td>NaN</td>\n",
       "      <td>4.00</td>\n",
       "      <td>NaN</td>\n",
       "      <td>5.00</td>\n",
       "      <td>NaN</td>\n",
       "    </tr>\n",
       "    <tr>\n",
       "      <th>1</th>\n",
       "      <td>1.77</td>\n",
       "      <td>0.31</td>\n",
       "      <td>0.25</td>\n",
       "      <td>0.14</td>\n",
       "      <td>0.09</td>\n",
       "      <td>0.20</td>\n",
       "      <td>0.12</td>\n",
       "      <td>0.11</td>\n",
       "      <td>0.09</td>\n",
       "      <td>0.08</td>\n",
       "      <td>0.25</td>\n",
       "      <td>0.07</td>\n",
       "      <td>0.07</td>\n",
       "      <td>0.08</td>\n",
       "      <td>0.10</td>\n",
       "      <td>0.43</td>\n",
       "      <td>0.12</td>\n",
       "      <td>0.09</td>\n",
       "      <td>0.12</td>\n",
       "      <td>0.07</td>\n",
       "    </tr>\n",
       "    <tr>\n",
       "      <th>2</th>\n",
       "      <td>0.14</td>\n",
       "      <td>0.09</td>\n",
       "      <td>0.12</td>\n",
       "      <td>0.76</td>\n",
       "      <td>0.13</td>\n",
       "      <td>0.13</td>\n",
       "      <td>0.14</td>\n",
       "      <td>0.16</td>\n",
       "      <td>0.10</td>\n",
       "      <td>0.07</td>\n",
       "      <td>0.18</td>\n",
       "      <td>0.18</td>\n",
       "      <td>0.16</td>\n",
       "      <td>0.17</td>\n",
       "      <td>0.15</td>\n",
       "      <td>0.07</td>\n",
       "      <td>0.09</td>\n",
       "      <td>0.12</td>\n",
       "      <td>0.10</td>\n",
       "      <td>0.07</td>\n",
       "    </tr>\n",
       "    <tr>\n",
       "      <th>3</th>\n",
       "      <td>0.07</td>\n",
       "      <td>0.09</td>\n",
       "      <td>0.09</td>\n",
       "      <td>0.07</td>\n",
       "      <td>0.13</td>\n",
       "      <td>0.14</td>\n",
       "      <td>0.07</td>\n",
       "      <td>0.12</td>\n",
       "      <td>0.13</td>\n",
       "      <td>0.09</td>\n",
       "      <td>0.07</td>\n",
       "      <td>0.11</td>\n",
       "      <td>0.09</td>\n",
       "      <td>0.12</td>\n",
       "      <td>0.08</td>\n",
       "      <td>0.10</td>\n",
       "      <td>0.09</td>\n",
       "      <td>0.08</td>\n",
       "      <td>0.11</td>\n",
       "      <td>0.16</td>\n",
       "    </tr>\n",
       "    <tr>\n",
       "      <th>4</th>\n",
       "      <td>0.12</td>\n",
       "      <td>0.12</td>\n",
       "      <td>0.11</td>\n",
       "      <td>0.11</td>\n",
       "      <td>0.14</td>\n",
       "      <td>0.14</td>\n",
       "      <td>0.09</td>\n",
       "      <td>0.09</td>\n",
       "      <td>0.09</td>\n",
       "      <td>0.23</td>\n",
       "      <td>1.71</td>\n",
       "      <td>0.09</td>\n",
       "      <td>0.09</td>\n",
       "      <td>0.10</td>\n",
       "      <td>0.11</td>\n",
       "      <td>0.11</td>\n",
       "      <td>0.29</td>\n",
       "      <td>0.19</td>\n",
       "      <td>0.10</td>\n",
       "      <td>0.13</td>\n",
       "    </tr>\n",
       "    <tr>\n",
       "      <th>5</th>\n",
       "      <td>1.85</td>\n",
       "      <td>0.11</td>\n",
       "      <td>0.08</td>\n",
       "      <td>0.17</td>\n",
       "      <td>0.23</td>\n",
       "      <td>0.16</td>\n",
       "      <td>1.93</td>\n",
       "      <td>0.18</td>\n",
       "      <td>0.09</td>\n",
       "      <td>0.45</td>\n",
       "      <td>0.71</td>\n",
       "      <td>0.09</td>\n",
       "      <td>0.10</td>\n",
       "      <td>0.20</td>\n",
       "      <td>0.48</td>\n",
       "      <td>0.20</td>\n",
       "      <td>0.08</td>\n",
       "      <td>0.13</td>\n",
       "      <td>0.15</td>\n",
       "      <td>0.15</td>\n",
       "    </tr>\n",
       "    <tr>\n",
       "      <th>6</th>\n",
       "      <td>0.19</td>\n",
       "      <td>0.12</td>\n",
       "      <td>0.14</td>\n",
       "      <td>0.14</td>\n",
       "      <td>0.30</td>\n",
       "      <td>0.30</td>\n",
       "      <td>0.20</td>\n",
       "      <td>0.20</td>\n",
       "      <td>0.12</td>\n",
       "      <td>0.14</td>\n",
       "      <td>0.23</td>\n",
       "      <td>0.08</td>\n",
       "      <td>0.24</td>\n",
       "      <td>0.24</td>\n",
       "      <td>0.38</td>\n",
       "      <td>0.38</td>\n",
       "      <td>3.13</td>\n",
       "      <td>0.26</td>\n",
       "      <td>2.03</td>\n",
       "      <td>2.03</td>\n",
       "    </tr>\n",
       "    <tr>\n",
       "      <th>7</th>\n",
       "      <td>0.10</td>\n",
       "      <td>0.10</td>\n",
       "      <td>0.46</td>\n",
       "      <td>0.47</td>\n",
       "      <td>1.50</td>\n",
       "      <td>1.50</td>\n",
       "      <td>0.49</td>\n",
       "      <td>0.49</td>\n",
       "      <td>1.23</td>\n",
       "      <td>1.52</td>\n",
       "      <td>0.20</td>\n",
       "      <td>0.17</td>\n",
       "      <td>0.60</td>\n",
       "      <td>0.11</td>\n",
       "      <td>0.21</td>\n",
       "      <td>0.13</td>\n",
       "      <td>0.29</td>\n",
       "      <td>0.18</td>\n",
       "      <td>0.12</td>\n",
       "      <td>0.21</td>\n",
       "    </tr>\n",
       "  </tbody>\n",
       "</table>\n",
       "</div>"
      ],
      "text/plain": [
       "   Kecepatan aliran (Liter/menit) pada h=10cm  Unnamed: 4  Unnamed: 5  \\\n",
       "0                                        1.00         NaN        2.00   \n",
       "1                                        1.77        0.31        0.25   \n",
       "2                                        0.14        0.09        0.12   \n",
       "3                                        0.07        0.09        0.09   \n",
       "4                                        0.12        0.12        0.11   \n",
       "5                                        1.85        0.11        0.08   \n",
       "6                                        0.19        0.12        0.14   \n",
       "7                                        0.10        0.10        0.46   \n",
       "\n",
       "   Unnamed: 6  Unnamed: 7  Unnamed: 8  Unnamed: 9  Unnamed: 10  Unnamed: 11  \\\n",
       "0         NaN        3.00         NaN        4.00          NaN         5.00   \n",
       "1        0.14        0.09        0.20        0.12         0.11         0.09   \n",
       "2        0.76        0.13        0.13        0.14         0.16         0.10   \n",
       "3        0.07        0.13        0.14        0.07         0.12         0.13   \n",
       "4        0.11        0.14        0.14        0.09         0.09         0.09   \n",
       "5        0.17        0.23        0.16        1.93         0.18         0.09   \n",
       "6        0.14        0.30        0.30        0.20         0.20         0.12   \n",
       "7        0.47        1.50        1.50        0.49         0.49         1.23   \n",
       "\n",
       "   Unnamed: 12  Kecepatan aliran (Liter/menit) pada h= 15 cm  Unnamed: 14  \\\n",
       "0          NaN                                          1.00          NaN   \n",
       "1         0.08                                          0.25         0.07   \n",
       "2         0.07                                          0.18         0.18   \n",
       "3         0.09                                          0.07         0.11   \n",
       "4         0.23                                          1.71         0.09   \n",
       "5         0.45                                          0.71         0.09   \n",
       "6         0.14                                          0.23         0.08   \n",
       "7         1.52                                          0.20         0.17   \n",
       "\n",
       "   Unnamed: 15  Unnamed: 16  Unnamed: 17  Unnamed: 18  Unnamed: 19  \\\n",
       "0         2.00          NaN         3.00          NaN         4.00   \n",
       "1         0.07         0.08         0.10         0.43         0.12   \n",
       "2         0.16         0.17         0.15         0.07         0.09   \n",
       "3         0.09         0.12         0.08         0.10         0.09   \n",
       "4         0.09         0.10         0.11         0.11         0.29   \n",
       "5         0.10         0.20         0.48         0.20         0.08   \n",
       "6         0.24         0.24         0.38         0.38         3.13   \n",
       "7         0.60         0.11         0.21         0.13         0.29   \n",
       "\n",
       "   Unnamed: 20  Unnamed: 21  Unnamed: 22  \n",
       "0          NaN         5.00          NaN  \n",
       "1         0.09         0.12         0.07  \n",
       "2         0.12         0.10         0.07  \n",
       "3         0.08         0.11         0.16  \n",
       "4         0.19         0.10         0.13  \n",
       "5         0.13         0.15         0.15  \n",
       "6         0.26         2.03         2.03  \n",
       "7         0.18         0.12         0.21  "
      ]
     },
     "execution_count": 8,
     "metadata": {},
     "output_type": "execute_result"
    }
   ],
   "source": [
    "k"
   ]
  },
  {
   "cell_type": "code",
   "execution_count": 9,
   "metadata": {},
   "outputs": [],
   "source": [
    "u = k.drop(labels=0, axis=0)"
   ]
  },
  {
   "cell_type": "code",
   "execution_count": 10,
   "metadata": {},
   "outputs": [
    {
     "data": {
      "text/html": [
       "<div>\n",
       "<style scoped>\n",
       "    .dataframe tbody tr th:only-of-type {\n",
       "        vertical-align: middle;\n",
       "    }\n",
       "\n",
       "    .dataframe tbody tr th {\n",
       "        vertical-align: top;\n",
       "    }\n",
       "\n",
       "    .dataframe thead th {\n",
       "        text-align: right;\n",
       "    }\n",
       "</style>\n",
       "<table border=\"1\" class=\"dataframe\">\n",
       "  <thead>\n",
       "    <tr style=\"text-align: right;\">\n",
       "      <th></th>\n",
       "      <th>Kecepatan aliran (Liter/menit) pada h=10cm</th>\n",
       "      <th>Unnamed: 4</th>\n",
       "      <th>Unnamed: 5</th>\n",
       "      <th>Unnamed: 6</th>\n",
       "      <th>Unnamed: 7</th>\n",
       "      <th>Unnamed: 8</th>\n",
       "      <th>Unnamed: 9</th>\n",
       "      <th>Unnamed: 10</th>\n",
       "      <th>Unnamed: 11</th>\n",
       "      <th>Unnamed: 12</th>\n",
       "      <th>Kecepatan aliran (Liter/menit) pada h= 15 cm</th>\n",
       "      <th>Unnamed: 14</th>\n",
       "      <th>Unnamed: 15</th>\n",
       "      <th>Unnamed: 16</th>\n",
       "      <th>Unnamed: 17</th>\n",
       "      <th>Unnamed: 18</th>\n",
       "      <th>Unnamed: 19</th>\n",
       "      <th>Unnamed: 20</th>\n",
       "      <th>Unnamed: 21</th>\n",
       "      <th>Unnamed: 22</th>\n",
       "    </tr>\n",
       "  </thead>\n",
       "  <tbody>\n",
       "    <tr>\n",
       "      <th>1</th>\n",
       "      <td>1.77</td>\n",
       "      <td>0.31</td>\n",
       "      <td>0.25</td>\n",
       "      <td>0.14</td>\n",
       "      <td>0.09</td>\n",
       "      <td>0.20</td>\n",
       "      <td>0.12</td>\n",
       "      <td>0.11</td>\n",
       "      <td>0.09</td>\n",
       "      <td>0.08</td>\n",
       "      <td>0.25</td>\n",
       "      <td>0.07</td>\n",
       "      <td>0.07</td>\n",
       "      <td>0.08</td>\n",
       "      <td>0.10</td>\n",
       "      <td>0.43</td>\n",
       "      <td>0.12</td>\n",
       "      <td>0.09</td>\n",
       "      <td>0.12</td>\n",
       "      <td>0.07</td>\n",
       "    </tr>\n",
       "    <tr>\n",
       "      <th>2</th>\n",
       "      <td>0.14</td>\n",
       "      <td>0.09</td>\n",
       "      <td>0.12</td>\n",
       "      <td>0.76</td>\n",
       "      <td>0.13</td>\n",
       "      <td>0.13</td>\n",
       "      <td>0.14</td>\n",
       "      <td>0.16</td>\n",
       "      <td>0.10</td>\n",
       "      <td>0.07</td>\n",
       "      <td>0.18</td>\n",
       "      <td>0.18</td>\n",
       "      <td>0.16</td>\n",
       "      <td>0.17</td>\n",
       "      <td>0.15</td>\n",
       "      <td>0.07</td>\n",
       "      <td>0.09</td>\n",
       "      <td>0.12</td>\n",
       "      <td>0.10</td>\n",
       "      <td>0.07</td>\n",
       "    </tr>\n",
       "    <tr>\n",
       "      <th>3</th>\n",
       "      <td>0.07</td>\n",
       "      <td>0.09</td>\n",
       "      <td>0.09</td>\n",
       "      <td>0.07</td>\n",
       "      <td>0.13</td>\n",
       "      <td>0.14</td>\n",
       "      <td>0.07</td>\n",
       "      <td>0.12</td>\n",
       "      <td>0.13</td>\n",
       "      <td>0.09</td>\n",
       "      <td>0.07</td>\n",
       "      <td>0.11</td>\n",
       "      <td>0.09</td>\n",
       "      <td>0.12</td>\n",
       "      <td>0.08</td>\n",
       "      <td>0.10</td>\n",
       "      <td>0.09</td>\n",
       "      <td>0.08</td>\n",
       "      <td>0.11</td>\n",
       "      <td>0.16</td>\n",
       "    </tr>\n",
       "    <tr>\n",
       "      <th>4</th>\n",
       "      <td>0.12</td>\n",
       "      <td>0.12</td>\n",
       "      <td>0.11</td>\n",
       "      <td>0.11</td>\n",
       "      <td>0.14</td>\n",
       "      <td>0.14</td>\n",
       "      <td>0.09</td>\n",
       "      <td>0.09</td>\n",
       "      <td>0.09</td>\n",
       "      <td>0.23</td>\n",
       "      <td>1.71</td>\n",
       "      <td>0.09</td>\n",
       "      <td>0.09</td>\n",
       "      <td>0.10</td>\n",
       "      <td>0.11</td>\n",
       "      <td>0.11</td>\n",
       "      <td>0.29</td>\n",
       "      <td>0.19</td>\n",
       "      <td>0.10</td>\n",
       "      <td>0.13</td>\n",
       "    </tr>\n",
       "    <tr>\n",
       "      <th>5</th>\n",
       "      <td>1.85</td>\n",
       "      <td>0.11</td>\n",
       "      <td>0.08</td>\n",
       "      <td>0.17</td>\n",
       "      <td>0.23</td>\n",
       "      <td>0.16</td>\n",
       "      <td>1.93</td>\n",
       "      <td>0.18</td>\n",
       "      <td>0.09</td>\n",
       "      <td>0.45</td>\n",
       "      <td>0.71</td>\n",
       "      <td>0.09</td>\n",
       "      <td>0.10</td>\n",
       "      <td>0.20</td>\n",
       "      <td>0.48</td>\n",
       "      <td>0.20</td>\n",
       "      <td>0.08</td>\n",
       "      <td>0.13</td>\n",
       "      <td>0.15</td>\n",
       "      <td>0.15</td>\n",
       "    </tr>\n",
       "    <tr>\n",
       "      <th>6</th>\n",
       "      <td>0.19</td>\n",
       "      <td>0.12</td>\n",
       "      <td>0.14</td>\n",
       "      <td>0.14</td>\n",
       "      <td>0.30</td>\n",
       "      <td>0.30</td>\n",
       "      <td>0.20</td>\n",
       "      <td>0.20</td>\n",
       "      <td>0.12</td>\n",
       "      <td>0.14</td>\n",
       "      <td>0.23</td>\n",
       "      <td>0.08</td>\n",
       "      <td>0.24</td>\n",
       "      <td>0.24</td>\n",
       "      <td>0.38</td>\n",
       "      <td>0.38</td>\n",
       "      <td>3.13</td>\n",
       "      <td>0.26</td>\n",
       "      <td>2.03</td>\n",
       "      <td>2.03</td>\n",
       "    </tr>\n",
       "    <tr>\n",
       "      <th>7</th>\n",
       "      <td>0.10</td>\n",
       "      <td>0.10</td>\n",
       "      <td>0.46</td>\n",
       "      <td>0.47</td>\n",
       "      <td>1.50</td>\n",
       "      <td>1.50</td>\n",
       "      <td>0.49</td>\n",
       "      <td>0.49</td>\n",
       "      <td>1.23</td>\n",
       "      <td>1.52</td>\n",
       "      <td>0.20</td>\n",
       "      <td>0.17</td>\n",
       "      <td>0.60</td>\n",
       "      <td>0.11</td>\n",
       "      <td>0.21</td>\n",
       "      <td>0.13</td>\n",
       "      <td>0.29</td>\n",
       "      <td>0.18</td>\n",
       "      <td>0.12</td>\n",
       "      <td>0.21</td>\n",
       "    </tr>\n",
       "  </tbody>\n",
       "</table>\n",
       "</div>"
      ],
      "text/plain": [
       "   Kecepatan aliran (Liter/menit) pada h=10cm  Unnamed: 4  Unnamed: 5  \\\n",
       "1                                        1.77        0.31        0.25   \n",
       "2                                        0.14        0.09        0.12   \n",
       "3                                        0.07        0.09        0.09   \n",
       "4                                        0.12        0.12        0.11   \n",
       "5                                        1.85        0.11        0.08   \n",
       "6                                        0.19        0.12        0.14   \n",
       "7                                        0.10        0.10        0.46   \n",
       "\n",
       "   Unnamed: 6  Unnamed: 7  Unnamed: 8  Unnamed: 9  Unnamed: 10  Unnamed: 11  \\\n",
       "1        0.14        0.09        0.20        0.12         0.11         0.09   \n",
       "2        0.76        0.13        0.13        0.14         0.16         0.10   \n",
       "3        0.07        0.13        0.14        0.07         0.12         0.13   \n",
       "4        0.11        0.14        0.14        0.09         0.09         0.09   \n",
       "5        0.17        0.23        0.16        1.93         0.18         0.09   \n",
       "6        0.14        0.30        0.30        0.20         0.20         0.12   \n",
       "7        0.47        1.50        1.50        0.49         0.49         1.23   \n",
       "\n",
       "   Unnamed: 12  Kecepatan aliran (Liter/menit) pada h= 15 cm  Unnamed: 14  \\\n",
       "1         0.08                                          0.25         0.07   \n",
       "2         0.07                                          0.18         0.18   \n",
       "3         0.09                                          0.07         0.11   \n",
       "4         0.23                                          1.71         0.09   \n",
       "5         0.45                                          0.71         0.09   \n",
       "6         0.14                                          0.23         0.08   \n",
       "7         1.52                                          0.20         0.17   \n",
       "\n",
       "   Unnamed: 15  Unnamed: 16  Unnamed: 17  Unnamed: 18  Unnamed: 19  \\\n",
       "1         0.07         0.08         0.10         0.43         0.12   \n",
       "2         0.16         0.17         0.15         0.07         0.09   \n",
       "3         0.09         0.12         0.08         0.10         0.09   \n",
       "4         0.09         0.10         0.11         0.11         0.29   \n",
       "5         0.10         0.20         0.48         0.20         0.08   \n",
       "6         0.24         0.24         0.38         0.38         3.13   \n",
       "7         0.60         0.11         0.21         0.13         0.29   \n",
       "\n",
       "   Unnamed: 20  Unnamed: 21  Unnamed: 22  \n",
       "1         0.09         0.12         0.07  \n",
       "2         0.12         0.10         0.07  \n",
       "3         0.08         0.11         0.16  \n",
       "4         0.19         0.10         0.13  \n",
       "5         0.13         0.15         0.15  \n",
       "6         0.26         2.03         2.03  \n",
       "7         0.18         0.12         0.21  "
      ]
     },
     "execution_count": 10,
     "metadata": {},
     "output_type": "execute_result"
    }
   ],
   "source": [
    "u"
   ]
  },
  {
   "cell_type": "code",
   "execution_count": 11,
   "metadata": {},
   "outputs": [
    {
     "data": {
      "text/plain": [
       "Kecepatan aliran (Liter/menit) pada h=10cm      0\n",
       "Unnamed: 4                                      0\n",
       "Unnamed: 5                                      0\n",
       "Unnamed: 6                                      0\n",
       "Unnamed: 7                                      0\n",
       "Unnamed: 8                                      0\n",
       "Unnamed: 9                                      0\n",
       "Unnamed: 10                                     0\n",
       "Unnamed: 11                                     0\n",
       "Unnamed: 12                                     0\n",
       "Kecepatan aliran (Liter/menit) pada h= 15 cm    0\n",
       "Unnamed: 14                                     0\n",
       "Unnamed: 15                                     0\n",
       "Unnamed: 16                                     0\n",
       "Unnamed: 17                                     0\n",
       "Unnamed: 18                                     0\n",
       "Unnamed: 19                                     0\n",
       "Unnamed: 20                                     0\n",
       "Unnamed: 21                                     0\n",
       "Unnamed: 22                                     0\n",
       "dtype: int64"
      ]
     },
     "execution_count": 11,
     "metadata": {},
     "output_type": "execute_result"
    }
   ],
   "source": [
    "u.isnull().sum()"
   ]
  },
  {
   "cell_type": "markdown",
   "metadata": {},
   "source": [
    "### IV.B.IV Data Cleaning"
   ]
  },
  {
   "cell_type": "code",
   "execution_count": 12,
   "metadata": {},
   "outputs": [],
   "source": [
    "data_kedalaman_10 = u.iloc[:,0:10]"
   ]
  },
  {
   "cell_type": "code",
   "execution_count": 13,
   "metadata": {},
   "outputs": [
    {
     "data": {
      "text/html": [
       "<div>\n",
       "<style scoped>\n",
       "    .dataframe tbody tr th:only-of-type {\n",
       "        vertical-align: middle;\n",
       "    }\n",
       "\n",
       "    .dataframe tbody tr th {\n",
       "        vertical-align: top;\n",
       "    }\n",
       "\n",
       "    .dataframe thead th {\n",
       "        text-align: right;\n",
       "    }\n",
       "</style>\n",
       "<table border=\"1\" class=\"dataframe\">\n",
       "  <thead>\n",
       "    <tr style=\"text-align: right;\">\n",
       "      <th></th>\n",
       "      <th>Kecepatan aliran (Liter/menit) pada h=10cm</th>\n",
       "      <th>Unnamed: 4</th>\n",
       "      <th>Unnamed: 5</th>\n",
       "      <th>Unnamed: 6</th>\n",
       "      <th>Unnamed: 7</th>\n",
       "      <th>Unnamed: 8</th>\n",
       "      <th>Unnamed: 9</th>\n",
       "      <th>Unnamed: 10</th>\n",
       "      <th>Unnamed: 11</th>\n",
       "      <th>Unnamed: 12</th>\n",
       "    </tr>\n",
       "  </thead>\n",
       "  <tbody>\n",
       "    <tr>\n",
       "      <th>1</th>\n",
       "      <td>1.77</td>\n",
       "      <td>0.31</td>\n",
       "      <td>0.25</td>\n",
       "      <td>0.14</td>\n",
       "      <td>0.09</td>\n",
       "      <td>0.20</td>\n",
       "      <td>0.12</td>\n",
       "      <td>0.11</td>\n",
       "      <td>0.09</td>\n",
       "      <td>0.08</td>\n",
       "    </tr>\n",
       "    <tr>\n",
       "      <th>2</th>\n",
       "      <td>0.14</td>\n",
       "      <td>0.09</td>\n",
       "      <td>0.12</td>\n",
       "      <td>0.76</td>\n",
       "      <td>0.13</td>\n",
       "      <td>0.13</td>\n",
       "      <td>0.14</td>\n",
       "      <td>0.16</td>\n",
       "      <td>0.10</td>\n",
       "      <td>0.07</td>\n",
       "    </tr>\n",
       "    <tr>\n",
       "      <th>3</th>\n",
       "      <td>0.07</td>\n",
       "      <td>0.09</td>\n",
       "      <td>0.09</td>\n",
       "      <td>0.07</td>\n",
       "      <td>0.13</td>\n",
       "      <td>0.14</td>\n",
       "      <td>0.07</td>\n",
       "      <td>0.12</td>\n",
       "      <td>0.13</td>\n",
       "      <td>0.09</td>\n",
       "    </tr>\n",
       "    <tr>\n",
       "      <th>4</th>\n",
       "      <td>0.12</td>\n",
       "      <td>0.12</td>\n",
       "      <td>0.11</td>\n",
       "      <td>0.11</td>\n",
       "      <td>0.14</td>\n",
       "      <td>0.14</td>\n",
       "      <td>0.09</td>\n",
       "      <td>0.09</td>\n",
       "      <td>0.09</td>\n",
       "      <td>0.23</td>\n",
       "    </tr>\n",
       "    <tr>\n",
       "      <th>5</th>\n",
       "      <td>1.85</td>\n",
       "      <td>0.11</td>\n",
       "      <td>0.08</td>\n",
       "      <td>0.17</td>\n",
       "      <td>0.23</td>\n",
       "      <td>0.16</td>\n",
       "      <td>1.93</td>\n",
       "      <td>0.18</td>\n",
       "      <td>0.09</td>\n",
       "      <td>0.45</td>\n",
       "    </tr>\n",
       "    <tr>\n",
       "      <th>6</th>\n",
       "      <td>0.19</td>\n",
       "      <td>0.12</td>\n",
       "      <td>0.14</td>\n",
       "      <td>0.14</td>\n",
       "      <td>0.30</td>\n",
       "      <td>0.30</td>\n",
       "      <td>0.20</td>\n",
       "      <td>0.20</td>\n",
       "      <td>0.12</td>\n",
       "      <td>0.14</td>\n",
       "    </tr>\n",
       "    <tr>\n",
       "      <th>7</th>\n",
       "      <td>0.10</td>\n",
       "      <td>0.10</td>\n",
       "      <td>0.46</td>\n",
       "      <td>0.47</td>\n",
       "      <td>1.50</td>\n",
       "      <td>1.50</td>\n",
       "      <td>0.49</td>\n",
       "      <td>0.49</td>\n",
       "      <td>1.23</td>\n",
       "      <td>1.52</td>\n",
       "    </tr>\n",
       "  </tbody>\n",
       "</table>\n",
       "</div>"
      ],
      "text/plain": [
       "   Kecepatan aliran (Liter/menit) pada h=10cm  Unnamed: 4  Unnamed: 5  \\\n",
       "1                                        1.77        0.31        0.25   \n",
       "2                                        0.14        0.09        0.12   \n",
       "3                                        0.07        0.09        0.09   \n",
       "4                                        0.12        0.12        0.11   \n",
       "5                                        1.85        0.11        0.08   \n",
       "6                                        0.19        0.12        0.14   \n",
       "7                                        0.10        0.10        0.46   \n",
       "\n",
       "   Unnamed: 6  Unnamed: 7  Unnamed: 8  Unnamed: 9  Unnamed: 10  Unnamed: 11  \\\n",
       "1        0.14        0.09        0.20        0.12         0.11         0.09   \n",
       "2        0.76        0.13        0.13        0.14         0.16         0.10   \n",
       "3        0.07        0.13        0.14        0.07         0.12         0.13   \n",
       "4        0.11        0.14        0.14        0.09         0.09         0.09   \n",
       "5        0.17        0.23        0.16        1.93         0.18         0.09   \n",
       "6        0.14        0.30        0.30        0.20         0.20         0.12   \n",
       "7        0.47        1.50        1.50        0.49         0.49         1.23   \n",
       "\n",
       "   Unnamed: 12  \n",
       "1         0.08  \n",
       "2         0.07  \n",
       "3         0.09  \n",
       "4         0.23  \n",
       "5         0.45  \n",
       "6         0.14  \n",
       "7         1.52  "
      ]
     },
     "execution_count": 13,
     "metadata": {},
     "output_type": "execute_result"
    }
   ],
   "source": [
    "data_kedalaman_10"
   ]
  },
  {
   "cell_type": "code",
   "execution_count": 14,
   "metadata": {},
   "outputs": [],
   "source": [
    "data_kedalaman_10_baru = data_kedalaman_10.rename(columns={'Kecepatan aliran (Liter/menit) pada h=10cm' : 'Pengulangan 1','Unnamed: 4':'Pengulangan 2','Unnamed: 5':'Pengulangan 3','Unnamed: 6':'Pengulangan 4','Unnamed: 7':'Pengulangan 5','Unnamed: 8':'Pengulangan 6','Unnamed: 9':'Pengulangan 7','Unnamed: 10':'Pengulangan 8','Unnamed: 11':'Pengulangan 9','Unnamed: 12':'Pengulangan 10'})"
   ]
  },
  {
   "cell_type": "code",
   "execution_count": 15,
   "metadata": {},
   "outputs": [
    {
     "data": {
      "text/html": [
       "<div>\n",
       "<style scoped>\n",
       "    .dataframe tbody tr th:only-of-type {\n",
       "        vertical-align: middle;\n",
       "    }\n",
       "\n",
       "    .dataframe tbody tr th {\n",
       "        vertical-align: top;\n",
       "    }\n",
       "\n",
       "    .dataframe thead th {\n",
       "        text-align: right;\n",
       "    }\n",
       "</style>\n",
       "<table border=\"1\" class=\"dataframe\">\n",
       "  <thead>\n",
       "    <tr style=\"text-align: right;\">\n",
       "      <th></th>\n",
       "      <th>Pengulangan 1</th>\n",
       "      <th>Pengulangan 2</th>\n",
       "      <th>Pengulangan 3</th>\n",
       "      <th>Pengulangan 4</th>\n",
       "      <th>Pengulangan 5</th>\n",
       "      <th>Pengulangan 6</th>\n",
       "      <th>Pengulangan 7</th>\n",
       "      <th>Pengulangan 8</th>\n",
       "      <th>Pengulangan 9</th>\n",
       "      <th>Pengulangan 10</th>\n",
       "    </tr>\n",
       "  </thead>\n",
       "  <tbody>\n",
       "    <tr>\n",
       "      <th>1</th>\n",
       "      <td>1.77</td>\n",
       "      <td>0.31</td>\n",
       "      <td>0.25</td>\n",
       "      <td>0.14</td>\n",
       "      <td>0.09</td>\n",
       "      <td>0.20</td>\n",
       "      <td>0.12</td>\n",
       "      <td>0.11</td>\n",
       "      <td>0.09</td>\n",
       "      <td>0.08</td>\n",
       "    </tr>\n",
       "    <tr>\n",
       "      <th>2</th>\n",
       "      <td>0.14</td>\n",
       "      <td>0.09</td>\n",
       "      <td>0.12</td>\n",
       "      <td>0.76</td>\n",
       "      <td>0.13</td>\n",
       "      <td>0.13</td>\n",
       "      <td>0.14</td>\n",
       "      <td>0.16</td>\n",
       "      <td>0.10</td>\n",
       "      <td>0.07</td>\n",
       "    </tr>\n",
       "    <tr>\n",
       "      <th>3</th>\n",
       "      <td>0.07</td>\n",
       "      <td>0.09</td>\n",
       "      <td>0.09</td>\n",
       "      <td>0.07</td>\n",
       "      <td>0.13</td>\n",
       "      <td>0.14</td>\n",
       "      <td>0.07</td>\n",
       "      <td>0.12</td>\n",
       "      <td>0.13</td>\n",
       "      <td>0.09</td>\n",
       "    </tr>\n",
       "    <tr>\n",
       "      <th>4</th>\n",
       "      <td>0.12</td>\n",
       "      <td>0.12</td>\n",
       "      <td>0.11</td>\n",
       "      <td>0.11</td>\n",
       "      <td>0.14</td>\n",
       "      <td>0.14</td>\n",
       "      <td>0.09</td>\n",
       "      <td>0.09</td>\n",
       "      <td>0.09</td>\n",
       "      <td>0.23</td>\n",
       "    </tr>\n",
       "    <tr>\n",
       "      <th>5</th>\n",
       "      <td>1.85</td>\n",
       "      <td>0.11</td>\n",
       "      <td>0.08</td>\n",
       "      <td>0.17</td>\n",
       "      <td>0.23</td>\n",
       "      <td>0.16</td>\n",
       "      <td>1.93</td>\n",
       "      <td>0.18</td>\n",
       "      <td>0.09</td>\n",
       "      <td>0.45</td>\n",
       "    </tr>\n",
       "    <tr>\n",
       "      <th>6</th>\n",
       "      <td>0.19</td>\n",
       "      <td>0.12</td>\n",
       "      <td>0.14</td>\n",
       "      <td>0.14</td>\n",
       "      <td>0.30</td>\n",
       "      <td>0.30</td>\n",
       "      <td>0.20</td>\n",
       "      <td>0.20</td>\n",
       "      <td>0.12</td>\n",
       "      <td>0.14</td>\n",
       "    </tr>\n",
       "    <tr>\n",
       "      <th>7</th>\n",
       "      <td>0.10</td>\n",
       "      <td>0.10</td>\n",
       "      <td>0.46</td>\n",
       "      <td>0.47</td>\n",
       "      <td>1.50</td>\n",
       "      <td>1.50</td>\n",
       "      <td>0.49</td>\n",
       "      <td>0.49</td>\n",
       "      <td>1.23</td>\n",
       "      <td>1.52</td>\n",
       "    </tr>\n",
       "  </tbody>\n",
       "</table>\n",
       "</div>"
      ],
      "text/plain": [
       "   Pengulangan 1  Pengulangan 2  Pengulangan 3  Pengulangan 4  Pengulangan 5  \\\n",
       "1           1.77           0.31           0.25           0.14           0.09   \n",
       "2           0.14           0.09           0.12           0.76           0.13   \n",
       "3           0.07           0.09           0.09           0.07           0.13   \n",
       "4           0.12           0.12           0.11           0.11           0.14   \n",
       "5           1.85           0.11           0.08           0.17           0.23   \n",
       "6           0.19           0.12           0.14           0.14           0.30   \n",
       "7           0.10           0.10           0.46           0.47           1.50   \n",
       "\n",
       "   Pengulangan 6  Pengulangan 7  Pengulangan 8  Pengulangan 9  Pengulangan 10  \n",
       "1           0.20           0.12           0.11           0.09            0.08  \n",
       "2           0.13           0.14           0.16           0.10            0.07  \n",
       "3           0.14           0.07           0.12           0.13            0.09  \n",
       "4           0.14           0.09           0.09           0.09            0.23  \n",
       "5           0.16           1.93           0.18           0.09            0.45  \n",
       "6           0.30           0.20           0.20           0.12            0.14  \n",
       "7           1.50           0.49           0.49           1.23            1.52  "
      ]
     },
     "execution_count": 15,
     "metadata": {},
     "output_type": "execute_result"
    }
   ],
   "source": [
    "data_kedalaman_10_baru"
   ]
  },
  {
   "cell_type": "code",
   "execution_count": 16,
   "metadata": {},
   "outputs": [],
   "source": [
    "data_kedalaman_15 = u.iloc[:,10:]"
   ]
  },
  {
   "cell_type": "code",
   "execution_count": 17,
   "metadata": {},
   "outputs": [
    {
     "data": {
      "text/html": [
       "<div>\n",
       "<style scoped>\n",
       "    .dataframe tbody tr th:only-of-type {\n",
       "        vertical-align: middle;\n",
       "    }\n",
       "\n",
       "    .dataframe tbody tr th {\n",
       "        vertical-align: top;\n",
       "    }\n",
       "\n",
       "    .dataframe thead th {\n",
       "        text-align: right;\n",
       "    }\n",
       "</style>\n",
       "<table border=\"1\" class=\"dataframe\">\n",
       "  <thead>\n",
       "    <tr style=\"text-align: right;\">\n",
       "      <th></th>\n",
       "      <th>Kecepatan aliran (Liter/menit) pada h= 15 cm</th>\n",
       "      <th>Unnamed: 14</th>\n",
       "      <th>Unnamed: 15</th>\n",
       "      <th>Unnamed: 16</th>\n",
       "      <th>Unnamed: 17</th>\n",
       "      <th>Unnamed: 18</th>\n",
       "      <th>Unnamed: 19</th>\n",
       "      <th>Unnamed: 20</th>\n",
       "      <th>Unnamed: 21</th>\n",
       "      <th>Unnamed: 22</th>\n",
       "    </tr>\n",
       "  </thead>\n",
       "  <tbody>\n",
       "    <tr>\n",
       "      <th>1</th>\n",
       "      <td>0.25</td>\n",
       "      <td>0.07</td>\n",
       "      <td>0.07</td>\n",
       "      <td>0.08</td>\n",
       "      <td>0.10</td>\n",
       "      <td>0.43</td>\n",
       "      <td>0.12</td>\n",
       "      <td>0.09</td>\n",
       "      <td>0.12</td>\n",
       "      <td>0.07</td>\n",
       "    </tr>\n",
       "    <tr>\n",
       "      <th>2</th>\n",
       "      <td>0.18</td>\n",
       "      <td>0.18</td>\n",
       "      <td>0.16</td>\n",
       "      <td>0.17</td>\n",
       "      <td>0.15</td>\n",
       "      <td>0.07</td>\n",
       "      <td>0.09</td>\n",
       "      <td>0.12</td>\n",
       "      <td>0.10</td>\n",
       "      <td>0.07</td>\n",
       "    </tr>\n",
       "    <tr>\n",
       "      <th>3</th>\n",
       "      <td>0.07</td>\n",
       "      <td>0.11</td>\n",
       "      <td>0.09</td>\n",
       "      <td>0.12</td>\n",
       "      <td>0.08</td>\n",
       "      <td>0.10</td>\n",
       "      <td>0.09</td>\n",
       "      <td>0.08</td>\n",
       "      <td>0.11</td>\n",
       "      <td>0.16</td>\n",
       "    </tr>\n",
       "    <tr>\n",
       "      <th>4</th>\n",
       "      <td>1.71</td>\n",
       "      <td>0.09</td>\n",
       "      <td>0.09</td>\n",
       "      <td>0.10</td>\n",
       "      <td>0.11</td>\n",
       "      <td>0.11</td>\n",
       "      <td>0.29</td>\n",
       "      <td>0.19</td>\n",
       "      <td>0.10</td>\n",
       "      <td>0.13</td>\n",
       "    </tr>\n",
       "    <tr>\n",
       "      <th>5</th>\n",
       "      <td>0.71</td>\n",
       "      <td>0.09</td>\n",
       "      <td>0.10</td>\n",
       "      <td>0.20</td>\n",
       "      <td>0.48</td>\n",
       "      <td>0.20</td>\n",
       "      <td>0.08</td>\n",
       "      <td>0.13</td>\n",
       "      <td>0.15</td>\n",
       "      <td>0.15</td>\n",
       "    </tr>\n",
       "    <tr>\n",
       "      <th>6</th>\n",
       "      <td>0.23</td>\n",
       "      <td>0.08</td>\n",
       "      <td>0.24</td>\n",
       "      <td>0.24</td>\n",
       "      <td>0.38</td>\n",
       "      <td>0.38</td>\n",
       "      <td>3.13</td>\n",
       "      <td>0.26</td>\n",
       "      <td>2.03</td>\n",
       "      <td>2.03</td>\n",
       "    </tr>\n",
       "    <tr>\n",
       "      <th>7</th>\n",
       "      <td>0.20</td>\n",
       "      <td>0.17</td>\n",
       "      <td>0.60</td>\n",
       "      <td>0.11</td>\n",
       "      <td>0.21</td>\n",
       "      <td>0.13</td>\n",
       "      <td>0.29</td>\n",
       "      <td>0.18</td>\n",
       "      <td>0.12</td>\n",
       "      <td>0.21</td>\n",
       "    </tr>\n",
       "  </tbody>\n",
       "</table>\n",
       "</div>"
      ],
      "text/plain": [
       "   Kecepatan aliran (Liter/menit) pada h= 15 cm  Unnamed: 14  Unnamed: 15  \\\n",
       "1                                          0.25         0.07         0.07   \n",
       "2                                          0.18         0.18         0.16   \n",
       "3                                          0.07         0.11         0.09   \n",
       "4                                          1.71         0.09         0.09   \n",
       "5                                          0.71         0.09         0.10   \n",
       "6                                          0.23         0.08         0.24   \n",
       "7                                          0.20         0.17         0.60   \n",
       "\n",
       "   Unnamed: 16  Unnamed: 17  Unnamed: 18  Unnamed: 19  Unnamed: 20  \\\n",
       "1         0.08         0.10         0.43         0.12         0.09   \n",
       "2         0.17         0.15         0.07         0.09         0.12   \n",
       "3         0.12         0.08         0.10         0.09         0.08   \n",
       "4         0.10         0.11         0.11         0.29         0.19   \n",
       "5         0.20         0.48         0.20         0.08         0.13   \n",
       "6         0.24         0.38         0.38         3.13         0.26   \n",
       "7         0.11         0.21         0.13         0.29         0.18   \n",
       "\n",
       "   Unnamed: 21  Unnamed: 22  \n",
       "1         0.12         0.07  \n",
       "2         0.10         0.07  \n",
       "3         0.11         0.16  \n",
       "4         0.10         0.13  \n",
       "5         0.15         0.15  \n",
       "6         2.03         2.03  \n",
       "7         0.12         0.21  "
      ]
     },
     "execution_count": 17,
     "metadata": {},
     "output_type": "execute_result"
    }
   ],
   "source": [
    "data_kedalaman_15"
   ]
  },
  {
   "cell_type": "code",
   "execution_count": 18,
   "metadata": {},
   "outputs": [],
   "source": [
    "data_kedalaman_15_baru = data_kedalaman_15.rename(columns={'Kecepatan aliran (Liter/menit) pada h= 15 cm' : 'Pengulangan 1','Unnamed: 14':'Pengulangan 2','Unnamed: 15':'Pengulangan 3','Unnamed: 16':'Pengulangan 4','Unnamed: 17':'Pengulangan 5','Unnamed: 18':'Pengulangan 6','Unnamed: 19':'Pengulangan 7','Unnamed: 20':'Pengulangan 8','Unnamed: 21':'Pengulangan 9','Unnamed: 22':'Pengulangan 10'})"
   ]
  },
  {
   "cell_type": "code",
   "execution_count": 19,
   "metadata": {},
   "outputs": [
    {
     "data": {
      "text/html": [
       "<div>\n",
       "<style scoped>\n",
       "    .dataframe tbody tr th:only-of-type {\n",
       "        vertical-align: middle;\n",
       "    }\n",
       "\n",
       "    .dataframe tbody tr th {\n",
       "        vertical-align: top;\n",
       "    }\n",
       "\n",
       "    .dataframe thead th {\n",
       "        text-align: right;\n",
       "    }\n",
       "</style>\n",
       "<table border=\"1\" class=\"dataframe\">\n",
       "  <thead>\n",
       "    <tr style=\"text-align: right;\">\n",
       "      <th></th>\n",
       "      <th>Pengulangan 1</th>\n",
       "      <th>Pengulangan 2</th>\n",
       "      <th>Pengulangan 3</th>\n",
       "      <th>Pengulangan 4</th>\n",
       "      <th>Pengulangan 5</th>\n",
       "      <th>Pengulangan 6</th>\n",
       "      <th>Pengulangan 7</th>\n",
       "      <th>Pengulangan 8</th>\n",
       "      <th>Pengulangan 9</th>\n",
       "      <th>Pengulangan 10</th>\n",
       "    </tr>\n",
       "  </thead>\n",
       "  <tbody>\n",
       "    <tr>\n",
       "      <th>1</th>\n",
       "      <td>0.25</td>\n",
       "      <td>0.07</td>\n",
       "      <td>0.07</td>\n",
       "      <td>0.08</td>\n",
       "      <td>0.10</td>\n",
       "      <td>0.43</td>\n",
       "      <td>0.12</td>\n",
       "      <td>0.09</td>\n",
       "      <td>0.12</td>\n",
       "      <td>0.07</td>\n",
       "    </tr>\n",
       "    <tr>\n",
       "      <th>2</th>\n",
       "      <td>0.18</td>\n",
       "      <td>0.18</td>\n",
       "      <td>0.16</td>\n",
       "      <td>0.17</td>\n",
       "      <td>0.15</td>\n",
       "      <td>0.07</td>\n",
       "      <td>0.09</td>\n",
       "      <td>0.12</td>\n",
       "      <td>0.10</td>\n",
       "      <td>0.07</td>\n",
       "    </tr>\n",
       "    <tr>\n",
       "      <th>3</th>\n",
       "      <td>0.07</td>\n",
       "      <td>0.11</td>\n",
       "      <td>0.09</td>\n",
       "      <td>0.12</td>\n",
       "      <td>0.08</td>\n",
       "      <td>0.10</td>\n",
       "      <td>0.09</td>\n",
       "      <td>0.08</td>\n",
       "      <td>0.11</td>\n",
       "      <td>0.16</td>\n",
       "    </tr>\n",
       "    <tr>\n",
       "      <th>4</th>\n",
       "      <td>1.71</td>\n",
       "      <td>0.09</td>\n",
       "      <td>0.09</td>\n",
       "      <td>0.10</td>\n",
       "      <td>0.11</td>\n",
       "      <td>0.11</td>\n",
       "      <td>0.29</td>\n",
       "      <td>0.19</td>\n",
       "      <td>0.10</td>\n",
       "      <td>0.13</td>\n",
       "    </tr>\n",
       "    <tr>\n",
       "      <th>5</th>\n",
       "      <td>0.71</td>\n",
       "      <td>0.09</td>\n",
       "      <td>0.10</td>\n",
       "      <td>0.20</td>\n",
       "      <td>0.48</td>\n",
       "      <td>0.20</td>\n",
       "      <td>0.08</td>\n",
       "      <td>0.13</td>\n",
       "      <td>0.15</td>\n",
       "      <td>0.15</td>\n",
       "    </tr>\n",
       "    <tr>\n",
       "      <th>6</th>\n",
       "      <td>0.23</td>\n",
       "      <td>0.08</td>\n",
       "      <td>0.24</td>\n",
       "      <td>0.24</td>\n",
       "      <td>0.38</td>\n",
       "      <td>0.38</td>\n",
       "      <td>3.13</td>\n",
       "      <td>0.26</td>\n",
       "      <td>2.03</td>\n",
       "      <td>2.03</td>\n",
       "    </tr>\n",
       "    <tr>\n",
       "      <th>7</th>\n",
       "      <td>0.20</td>\n",
       "      <td>0.17</td>\n",
       "      <td>0.60</td>\n",
       "      <td>0.11</td>\n",
       "      <td>0.21</td>\n",
       "      <td>0.13</td>\n",
       "      <td>0.29</td>\n",
       "      <td>0.18</td>\n",
       "      <td>0.12</td>\n",
       "      <td>0.21</td>\n",
       "    </tr>\n",
       "  </tbody>\n",
       "</table>\n",
       "</div>"
      ],
      "text/plain": [
       "   Pengulangan 1  Pengulangan 2  Pengulangan 3  Pengulangan 4  Pengulangan 5  \\\n",
       "1           0.25           0.07           0.07           0.08           0.10   \n",
       "2           0.18           0.18           0.16           0.17           0.15   \n",
       "3           0.07           0.11           0.09           0.12           0.08   \n",
       "4           1.71           0.09           0.09           0.10           0.11   \n",
       "5           0.71           0.09           0.10           0.20           0.48   \n",
       "6           0.23           0.08           0.24           0.24           0.38   \n",
       "7           0.20           0.17           0.60           0.11           0.21   \n",
       "\n",
       "   Pengulangan 6  Pengulangan 7  Pengulangan 8  Pengulangan 9  Pengulangan 10  \n",
       "1           0.43           0.12           0.09           0.12            0.07  \n",
       "2           0.07           0.09           0.12           0.10            0.07  \n",
       "3           0.10           0.09           0.08           0.11            0.16  \n",
       "4           0.11           0.29           0.19           0.10            0.13  \n",
       "5           0.20           0.08           0.13           0.15            0.15  \n",
       "6           0.38           3.13           0.26           2.03            2.03  \n",
       "7           0.13           0.29           0.18           0.12            0.21  "
      ]
     },
     "execution_count": 19,
     "metadata": {},
     "output_type": "execute_result"
    }
   ],
   "source": [
    "data_kedalaman_15_baru"
   ]
  },
  {
   "cell_type": "markdown",
   "metadata": {},
   "source": [
    "Cek Possible Outliers"
   ]
  },
  {
   "cell_type": "code",
   "execution_count": 20,
   "metadata": {},
   "outputs": [
    {
     "data": {
      "text/html": [
       "<div>\n",
       "<style scoped>\n",
       "    .dataframe tbody tr th:only-of-type {\n",
       "        vertical-align: middle;\n",
       "    }\n",
       "\n",
       "    .dataframe tbody tr th {\n",
       "        vertical-align: top;\n",
       "    }\n",
       "\n",
       "    .dataframe thead th {\n",
       "        text-align: right;\n",
       "    }\n",
       "</style>\n",
       "<table border=\"1\" class=\"dataframe\">\n",
       "  <thead>\n",
       "    <tr style=\"text-align: right;\">\n",
       "      <th></th>\n",
       "      <th>count</th>\n",
       "      <th>mean</th>\n",
       "      <th>std</th>\n",
       "      <th>min</th>\n",
       "      <th>25%</th>\n",
       "      <th>50%</th>\n",
       "      <th>75%</th>\n",
       "      <th>max</th>\n",
       "    </tr>\n",
       "  </thead>\n",
       "  <tbody>\n",
       "    <tr>\n",
       "      <th>Pengulangan 1</th>\n",
       "      <td>7.0</td>\n",
       "      <td>0.605714</td>\n",
       "      <td>0.823830</td>\n",
       "      <td>0.07</td>\n",
       "      <td>0.110</td>\n",
       "      <td>0.14</td>\n",
       "      <td>0.980</td>\n",
       "      <td>1.85</td>\n",
       "    </tr>\n",
       "    <tr>\n",
       "      <th>Pengulangan 2</th>\n",
       "      <td>7.0</td>\n",
       "      <td>0.134286</td>\n",
       "      <td>0.078498</td>\n",
       "      <td>0.09</td>\n",
       "      <td>0.095</td>\n",
       "      <td>0.11</td>\n",
       "      <td>0.120</td>\n",
       "      <td>0.31</td>\n",
       "    </tr>\n",
       "    <tr>\n",
       "      <th>Pengulangan 3</th>\n",
       "      <td>7.0</td>\n",
       "      <td>0.178571</td>\n",
       "      <td>0.136312</td>\n",
       "      <td>0.08</td>\n",
       "      <td>0.100</td>\n",
       "      <td>0.12</td>\n",
       "      <td>0.195</td>\n",
       "      <td>0.46</td>\n",
       "    </tr>\n",
       "    <tr>\n",
       "      <th>Pengulangan 4</th>\n",
       "      <td>7.0</td>\n",
       "      <td>0.265714</td>\n",
       "      <td>0.254745</td>\n",
       "      <td>0.07</td>\n",
       "      <td>0.125</td>\n",
       "      <td>0.14</td>\n",
       "      <td>0.320</td>\n",
       "      <td>0.76</td>\n",
       "    </tr>\n",
       "    <tr>\n",
       "      <th>Pengulangan 5</th>\n",
       "      <td>7.0</td>\n",
       "      <td>0.360000</td>\n",
       "      <td>0.507806</td>\n",
       "      <td>0.09</td>\n",
       "      <td>0.130</td>\n",
       "      <td>0.14</td>\n",
       "      <td>0.265</td>\n",
       "      <td>1.50</td>\n",
       "    </tr>\n",
       "    <tr>\n",
       "      <th>Pengulangan 6</th>\n",
       "      <td>7.0</td>\n",
       "      <td>0.367143</td>\n",
       "      <td>0.503015</td>\n",
       "      <td>0.13</td>\n",
       "      <td>0.140</td>\n",
       "      <td>0.16</td>\n",
       "      <td>0.250</td>\n",
       "      <td>1.50</td>\n",
       "    </tr>\n",
       "    <tr>\n",
       "      <th>Pengulangan 7</th>\n",
       "      <td>7.0</td>\n",
       "      <td>0.434286</td>\n",
       "      <td>0.674756</td>\n",
       "      <td>0.07</td>\n",
       "      <td>0.105</td>\n",
       "      <td>0.14</td>\n",
       "      <td>0.345</td>\n",
       "      <td>1.93</td>\n",
       "    </tr>\n",
       "    <tr>\n",
       "      <th>Pengulangan 8</th>\n",
       "      <td>7.0</td>\n",
       "      <td>0.192857</td>\n",
       "      <td>0.136835</td>\n",
       "      <td>0.09</td>\n",
       "      <td>0.115</td>\n",
       "      <td>0.16</td>\n",
       "      <td>0.190</td>\n",
       "      <td>0.49</td>\n",
       "    </tr>\n",
       "    <tr>\n",
       "      <th>Pengulangan 9</th>\n",
       "      <td>7.0</td>\n",
       "      <td>0.264286</td>\n",
       "      <td>0.426140</td>\n",
       "      <td>0.09</td>\n",
       "      <td>0.090</td>\n",
       "      <td>0.10</td>\n",
       "      <td>0.125</td>\n",
       "      <td>1.23</td>\n",
       "    </tr>\n",
       "    <tr>\n",
       "      <th>Pengulangan 10</th>\n",
       "      <td>7.0</td>\n",
       "      <td>0.368571</td>\n",
       "      <td>0.525022</td>\n",
       "      <td>0.07</td>\n",
       "      <td>0.085</td>\n",
       "      <td>0.14</td>\n",
       "      <td>0.340</td>\n",
       "      <td>1.52</td>\n",
       "    </tr>\n",
       "  </tbody>\n",
       "</table>\n",
       "</div>"
      ],
      "text/plain": [
       "                count      mean       std   min    25%   50%    75%   max\n",
       "Pengulangan 1     7.0  0.605714  0.823830  0.07  0.110  0.14  0.980  1.85\n",
       "Pengulangan 2     7.0  0.134286  0.078498  0.09  0.095  0.11  0.120  0.31\n",
       "Pengulangan 3     7.0  0.178571  0.136312  0.08  0.100  0.12  0.195  0.46\n",
       "Pengulangan 4     7.0  0.265714  0.254745  0.07  0.125  0.14  0.320  0.76\n",
       "Pengulangan 5     7.0  0.360000  0.507806  0.09  0.130  0.14  0.265  1.50\n",
       "Pengulangan 6     7.0  0.367143  0.503015  0.13  0.140  0.16  0.250  1.50\n",
       "Pengulangan 7     7.0  0.434286  0.674756  0.07  0.105  0.14  0.345  1.93\n",
       "Pengulangan 8     7.0  0.192857  0.136835  0.09  0.115  0.16  0.190  0.49\n",
       "Pengulangan 9     7.0  0.264286  0.426140  0.09  0.090  0.10  0.125  1.23\n",
       "Pengulangan 10    7.0  0.368571  0.525022  0.07  0.085  0.14  0.340  1.52"
      ]
     },
     "execution_count": 20,
     "metadata": {},
     "output_type": "execute_result"
    }
   ],
   "source": [
    "data_kedalaman_10_baru.describe().transpose()"
   ]
  },
  {
   "cell_type": "code",
   "execution_count": 21,
   "metadata": {},
   "outputs": [
    {
     "data": {
      "text/html": [
       "<div>\n",
       "<style scoped>\n",
       "    .dataframe tbody tr th:only-of-type {\n",
       "        vertical-align: middle;\n",
       "    }\n",
       "\n",
       "    .dataframe tbody tr th {\n",
       "        vertical-align: top;\n",
       "    }\n",
       "\n",
       "    .dataframe thead th {\n",
       "        text-align: right;\n",
       "    }\n",
       "</style>\n",
       "<table border=\"1\" class=\"dataframe\">\n",
       "  <thead>\n",
       "    <tr style=\"text-align: right;\">\n",
       "      <th></th>\n",
       "      <th>count</th>\n",
       "      <th>mean</th>\n",
       "      <th>std</th>\n",
       "      <th>min</th>\n",
       "      <th>25%</th>\n",
       "      <th>50%</th>\n",
       "      <th>75%</th>\n",
       "      <th>max</th>\n",
       "    </tr>\n",
       "  </thead>\n",
       "  <tbody>\n",
       "    <tr>\n",
       "      <th>Pengulangan 1</th>\n",
       "      <td>7.0</td>\n",
       "      <td>0.478571</td>\n",
       "      <td>0.579897</td>\n",
       "      <td>0.07</td>\n",
       "      <td>0.190</td>\n",
       "      <td>0.23</td>\n",
       "      <td>0.480</td>\n",
       "      <td>1.71</td>\n",
       "    </tr>\n",
       "    <tr>\n",
       "      <th>Pengulangan 2</th>\n",
       "      <td>7.0</td>\n",
       "      <td>0.112857</td>\n",
       "      <td>0.044240</td>\n",
       "      <td>0.07</td>\n",
       "      <td>0.085</td>\n",
       "      <td>0.09</td>\n",
       "      <td>0.140</td>\n",
       "      <td>0.18</td>\n",
       "    </tr>\n",
       "    <tr>\n",
       "      <th>Pengulangan 3</th>\n",
       "      <td>7.0</td>\n",
       "      <td>0.192857</td>\n",
       "      <td>0.188831</td>\n",
       "      <td>0.07</td>\n",
       "      <td>0.090</td>\n",
       "      <td>0.10</td>\n",
       "      <td>0.200</td>\n",
       "      <td>0.60</td>\n",
       "    </tr>\n",
       "    <tr>\n",
       "      <th>Pengulangan 4</th>\n",
       "      <td>7.0</td>\n",
       "      <td>0.145714</td>\n",
       "      <td>0.058838</td>\n",
       "      <td>0.08</td>\n",
       "      <td>0.105</td>\n",
       "      <td>0.12</td>\n",
       "      <td>0.185</td>\n",
       "      <td>0.24</td>\n",
       "    </tr>\n",
       "    <tr>\n",
       "      <th>Pengulangan 5</th>\n",
       "      <td>7.0</td>\n",
       "      <td>0.215714</td>\n",
       "      <td>0.155012</td>\n",
       "      <td>0.08</td>\n",
       "      <td>0.105</td>\n",
       "      <td>0.15</td>\n",
       "      <td>0.295</td>\n",
       "      <td>0.48</td>\n",
       "    </tr>\n",
       "    <tr>\n",
       "      <th>Pengulangan 6</th>\n",
       "      <td>7.0</td>\n",
       "      <td>0.202857</td>\n",
       "      <td>0.144420</td>\n",
       "      <td>0.07</td>\n",
       "      <td>0.105</td>\n",
       "      <td>0.13</td>\n",
       "      <td>0.290</td>\n",
       "      <td>0.43</td>\n",
       "    </tr>\n",
       "    <tr>\n",
       "      <th>Pengulangan 7</th>\n",
       "      <td>7.0</td>\n",
       "      <td>0.584286</td>\n",
       "      <td>1.126379</td>\n",
       "      <td>0.08</td>\n",
       "      <td>0.090</td>\n",
       "      <td>0.12</td>\n",
       "      <td>0.290</td>\n",
       "      <td>3.13</td>\n",
       "    </tr>\n",
       "    <tr>\n",
       "      <th>Pengulangan 8</th>\n",
       "      <td>7.0</td>\n",
       "      <td>0.150000</td>\n",
       "      <td>0.063770</td>\n",
       "      <td>0.08</td>\n",
       "      <td>0.105</td>\n",
       "      <td>0.13</td>\n",
       "      <td>0.185</td>\n",
       "      <td>0.26</td>\n",
       "    </tr>\n",
       "    <tr>\n",
       "      <th>Pengulangan 9</th>\n",
       "      <td>7.0</td>\n",
       "      <td>0.390000</td>\n",
       "      <td>0.723372</td>\n",
       "      <td>0.10</td>\n",
       "      <td>0.105</td>\n",
       "      <td>0.12</td>\n",
       "      <td>0.135</td>\n",
       "      <td>2.03</td>\n",
       "    </tr>\n",
       "    <tr>\n",
       "      <th>Pengulangan 10</th>\n",
       "      <td>7.0</td>\n",
       "      <td>0.402857</td>\n",
       "      <td>0.719229</td>\n",
       "      <td>0.07</td>\n",
       "      <td>0.100</td>\n",
       "      <td>0.15</td>\n",
       "      <td>0.185</td>\n",
       "      <td>2.03</td>\n",
       "    </tr>\n",
       "  </tbody>\n",
       "</table>\n",
       "</div>"
      ],
      "text/plain": [
       "                count      mean       std   min    25%   50%    75%   max\n",
       "Pengulangan 1     7.0  0.478571  0.579897  0.07  0.190  0.23  0.480  1.71\n",
       "Pengulangan 2     7.0  0.112857  0.044240  0.07  0.085  0.09  0.140  0.18\n",
       "Pengulangan 3     7.0  0.192857  0.188831  0.07  0.090  0.10  0.200  0.60\n",
       "Pengulangan 4     7.0  0.145714  0.058838  0.08  0.105  0.12  0.185  0.24\n",
       "Pengulangan 5     7.0  0.215714  0.155012  0.08  0.105  0.15  0.295  0.48\n",
       "Pengulangan 6     7.0  0.202857  0.144420  0.07  0.105  0.13  0.290  0.43\n",
       "Pengulangan 7     7.0  0.584286  1.126379  0.08  0.090  0.12  0.290  3.13\n",
       "Pengulangan 8     7.0  0.150000  0.063770  0.08  0.105  0.13  0.185  0.26\n",
       "Pengulangan 9     7.0  0.390000  0.723372  0.10  0.105  0.12  0.135  2.03\n",
       "Pengulangan 10    7.0  0.402857  0.719229  0.07  0.100  0.15  0.185  2.03"
      ]
     },
     "execution_count": 21,
     "metadata": {},
     "output_type": "execute_result"
    }
   ],
   "source": [
    "data_kedalaman_15_baru.describe().transpose()"
   ]
  },
  {
   "cell_type": "code",
   "execution_count": 22,
   "metadata": {},
   "outputs": [
    {
     "data": {
      "text/plain": [
       "<AxesSubplot:>"
      ]
     },
     "execution_count": 22,
     "metadata": {},
     "output_type": "execute_result"
    },
    {
     "data": {
      "image/png": "[encoded data removed]",
      "text/plain": [
       "<Figure size 432x288 with 1 Axes>"
      ]
     },
     "metadata": {
      "needs_background": "light"
     },
     "output_type": "display_data"
    }
   ],
   "source": [
    "data_kedalaman_15_baru.plot.box(grid='True')"
   ]
  },
  {
   "cell_type": "code",
   "execution_count": 23,
   "metadata": {},
   "outputs": [
    {
     "data": {
      "text/plain": [
       "<AxesSubplot:>"
      ]
     },
     "execution_count": 23,
     "metadata": {},
     "output_type": "execute_result"
    },
    {
     "data": {
      "image/png": "[encoded data removed]",
      "text/plain": [
       "<Figure size 432x288 with 1 Axes>"
      ]
     },
     "metadata": {
      "needs_background": "light"
     },
     "output_type": "display_data"
    }
   ],
   "source": [
    "data_kedalaman_10_baru.plot.box(grid='True')"
   ]
  },
  {
   "cell_type": "markdown",
   "metadata": {},
   "source": [
    "### IV.B.V Data Preprocessing"
   ]
  },
  {
   "cell_type": "markdown",
   "metadata": {},
   "source": [
    "#### IV.B.V.I Statistical Descriptive For 1st Data"
   ]
  },
  {
   "cell_type": "code",
   "execution_count": 24,
   "metadata": {},
   "outputs": [
    {
     "name": "stdout",
     "output_type": "stream",
     "text": [
      "Maka Didapatkan data rata rata kecepatan pada kedalaman 10 cm adalah :\n",
      "Pengulangan 1     0.605714\n",
      "Pengulangan 2     0.134286\n",
      "Pengulangan 3     0.178571\n",
      "Pengulangan 4     0.265714\n",
      "Pengulangan 5     0.360000\n",
      "Pengulangan 6     0.367143\n",
      "Pengulangan 7     0.434286\n",
      "Pengulangan 8     0.192857\n",
      "Pengulangan 9     0.264286\n",
      "Pengulangan 10    0.368571\n",
      "dtype: float64\n"
     ]
    }
   ],
   "source": [
    "o = data_kedalaman_10_baru.mean()\n",
    "print(\"Maka Didapatkan data rata rata kecepatan pada kedalaman 10 cm adalah :\")\n",
    "print(o)"
   ]
  },
  {
   "cell_type": "code",
   "execution_count": 25,
   "metadata": {},
   "outputs": [
    {
     "name": "stdout",
     "output_type": "stream",
     "text": [
      "Maka Didapatkan data median kecepatan pada kedalaman 10 cm adalah :\n",
      "Pengulangan 1     0.14\n",
      "Pengulangan 2     0.11\n",
      "Pengulangan 3     0.12\n",
      "Pengulangan 4     0.14\n",
      "Pengulangan 5     0.14\n",
      "Pengulangan 6     0.16\n",
      "Pengulangan 7     0.14\n",
      "Pengulangan 8     0.16\n",
      "Pengulangan 9     0.10\n",
      "Pengulangan 10    0.14\n",
      "dtype: float64\n"
     ]
    }
   ],
   "source": [
    "k = data_kedalaman_10_baru.median()\n",
    "print(\"Maka Didapatkan data median kecepatan pada kedalaman 10 cm adalah :\")\n",
    "print(k)"
   ]
  },
  {
   "cell_type": "markdown",
   "metadata": {},
   "source": [
    "#### IV.B.V.II Statistical Descriptive For 2nd Data"
   ]
  },
  {
   "cell_type": "code",
   "execution_count": 26,
   "metadata": {},
   "outputs": [
    {
     "name": "stdout",
     "output_type": "stream",
     "text": [
      "Maka Didapatkan data median kecepatan pada kedalaman 15 cm adalah :\n",
      "Pengulangan 1     0.23\n",
      "Pengulangan 2     0.09\n",
      "Pengulangan 3     0.10\n",
      "Pengulangan 4     0.12\n",
      "Pengulangan 5     0.15\n",
      "Pengulangan 6     0.13\n",
      "Pengulangan 7     0.12\n",
      "Pengulangan 8     0.13\n",
      "Pengulangan 9     0.12\n",
      "Pengulangan 10    0.15\n",
      "dtype: float64\n"
     ]
    }
   ],
   "source": [
    "l = data_kedalaman_15_baru.median()\n",
    "print(\"Maka Didapatkan data median kecepatan pada kedalaman 15 cm adalah :\")\n",
    "print(l)"
   ]
  },
  {
   "cell_type": "code",
   "execution_count": 27,
   "metadata": {},
   "outputs": [
    {
     "name": "stdout",
     "output_type": "stream",
     "text": [
      "Maka Didapatkan data rata rata kecepatan pada kedalaman 15 cm adalah :\n",
      "Pengulangan 1     0.478571\n",
      "Pengulangan 2     0.112857\n",
      "Pengulangan 3     0.192857\n",
      "Pengulangan 4     0.145714\n",
      "Pengulangan 5     0.215714\n",
      "Pengulangan 6     0.202857\n",
      "Pengulangan 7     0.584286\n",
      "Pengulangan 8     0.150000\n",
      "Pengulangan 9     0.390000\n",
      "Pengulangan 10    0.402857\n",
      "dtype: float64\n"
     ]
    }
   ],
   "source": [
    "z = data_kedalaman_15_baru.mean()\n",
    "print(\"Maka Didapatkan data rata rata kecepatan pada kedalaman 15 cm adalah :\")\n",
    "print(z)"
   ]
  },
  {
   "cell_type": "markdown",
   "metadata": {},
   "source": [
    "### IV.B.VI Modelling"
   ]
  },
  {
   "cell_type": "markdown",
   "metadata": {},
   "source": [
    "Pertama tama dapat kita masukan library yang dibutuhkan dengan cara sebagai berikut ini"
   ]
  },
  {
   "cell_type": "code",
   "execution_count": 28,
   "metadata": {},
   "outputs": [],
   "source": [
    "import scipy.stats as ss # untuk melakukan modelling dengan cara melakukan metode regresi linear untuk melakukan analisa data yang sudah dilakukan akuisisi "
   ]
  },
  {
   "cell_type": "code",
   "execution_count": 29,
   "metadata": {},
   "outputs": [],
   "source": [
    "data_kedalaman_15_array = data_kedalaman_15_baru.to_numpy()"
   ]
  },
  {
   "cell_type": "code",
   "execution_count": 30,
   "metadata": {},
   "outputs": [
    {
     "data": {
      "text/plain": [
       "array([[0.25, 0.07, 0.07, 0.08, 0.1 , 0.43, 0.12, 0.09, 0.12, 0.07],\n",
       "       [0.18, 0.18, 0.16, 0.17, 0.15, 0.07, 0.09, 0.12, 0.1 , 0.07],\n",
       "       [0.07, 0.11, 0.09, 0.12, 0.08, 0.1 , 0.09, 0.08, 0.11, 0.16],\n",
       "       [1.71, 0.09, 0.09, 0.1 , 0.11, 0.11, 0.29, 0.19, 0.1 , 0.13],\n",
       "       [0.71, 0.09, 0.1 , 0.2 , 0.48, 0.2 , 0.08, 0.13, 0.15, 0.15],\n",
       "       [0.23, 0.08, 0.24, 0.24, 0.38, 0.38, 3.13, 0.26, 2.03, 2.03],\n",
       "       [0.2 , 0.17, 0.6 , 0.11, 0.21, 0.13, 0.29, 0.18, 0.12, 0.21]])"
      ]
     },
     "execution_count": 30,
     "metadata": {},
     "output_type": "execute_result"
    }
   ],
   "source": [
    "data_kedalaman_15_array"
   ]
  },
  {
   "cell_type": "code",
   "execution_count": 31,
   "metadata": {},
   "outputs": [],
   "source": [
    "data_kedalaman_10_array = data_kedalaman_10_baru.to_numpy()"
   ]
  },
  {
   "cell_type": "code",
   "execution_count": 32,
   "metadata": {},
   "outputs": [
    {
     "data": {
      "text/plain": [
       "array([[1.77, 0.31, 0.25, 0.14, 0.09, 0.2 , 0.12, 0.11, 0.09, 0.08],\n",
       "       [0.14, 0.09, 0.12, 0.76, 0.13, 0.13, 0.14, 0.16, 0.1 , 0.07],\n",
       "       [0.07, 0.09, 0.09, 0.07, 0.13, 0.14, 0.07, 0.12, 0.13, 0.09],\n",
       "       [0.12, 0.12, 0.11, 0.11, 0.14, 0.14, 0.09, 0.09, 0.09, 0.23],\n",
       "       [1.85, 0.11, 0.08, 0.17, 0.23, 0.16, 1.93, 0.18, 0.09, 0.45],\n",
       "       [0.19, 0.12, 0.14, 0.14, 0.3 , 0.3 , 0.2 , 0.2 , 0.12, 0.14],\n",
       "       [0.1 , 0.1 , 0.46, 0.47, 1.5 , 1.5 , 0.49, 0.49, 1.23, 1.52]])"
      ]
     },
     "execution_count": 32,
     "metadata": {},
     "output_type": "execute_result"
    }
   ],
   "source": [
    "data_kedalaman_10_array"
   ]
  },
  {
   "cell_type": "code",
   "execution_count": 48,
   "metadata": {},
   "outputs": [],
   "source": [
    "datatotal = [data_kedalaman_15_baru['Pengulangan 1'],data_kedalaman_15_baru['Pengulangan 2'],data_kedalaman_15_baru['Pengulangan 3'],data_kedalaman_15_baru['Pengulangan 4'],data_kedalaman_15_baru['Pengulangan 5'],data_kedalaman_15_baru['Pengulangan 6'],data_kedalaman_15_baru['Pengulangan 7'],data_kedalaman_15_baru['Pengulangan 8'],data_kedalaman_15_baru['Pengulangan 9'],data_kedalaman_15_baru['Pengulangan 10']]\n",
    "hasilkedalaman15 = pd.concat(datatotal)"
   ]
  },
  {
   "cell_type": "code",
   "execution_count": 50,
   "metadata": {},
   "outputs": [],
   "source": [
    "hasilkedalaman15_dot = hasilkedalaman15.to_numpy()"
   ]
  },
  {
   "cell_type": "code",
   "execution_count": 57,
   "metadata": {},
   "outputs": [
    {
     "data": {
      "text/plain": [
       "array([0.25, 0.18, 0.07, 1.71, 0.71, 0.23, 0.2 , 0.07, 0.18, 0.11, 0.09,\n",
       "       0.09, 0.08, 0.17, 0.07, 0.16, 0.09, 0.09, 0.1 , 0.24, 0.6 , 0.08,\n",
       "       0.17, 0.12, 0.1 , 0.2 , 0.24, 0.11, 0.1 , 0.15, 0.08, 0.11, 0.48,\n",
       "       0.38, 0.21, 0.43, 0.07, 0.1 , 0.11, 0.2 , 0.38, 0.13, 0.12, 0.09,\n",
       "       0.09, 0.29, 0.08, 3.13, 0.29, 0.09, 0.12, 0.08, 0.19, 0.13, 0.26,\n",
       "       0.18, 0.12, 0.1 , 0.11, 0.1 , 0.15, 2.03, 0.12, 0.07, 0.07, 0.16,\n",
       "       0.13, 0.15, 2.03, 0.21])"
      ]
     },
     "execution_count": 57,
     "metadata": {},
     "output_type": "execute_result"
    }
   ],
   "source": [
    "hasilkedalaman15_dot"
   ]
  },
  {
   "cell_type": "code",
   "execution_count": 60,
   "metadata": {},
   "outputs": [],
   "source": [
    "datatotal10 = [data_kedalaman_10_baru['Pengulangan 1'],data_kedalaman_10_baru['Pengulangan 2'],data_kedalaman_10_baru['Pengulangan 3'],data_kedalaman_10_baru['Pengulangan 4'],data_kedalaman_10_baru['Pengulangan 5'],data_kedalaman_10_baru['Pengulangan 6'],data_kedalaman_10_baru['Pengulangan 7'],data_kedalaman_10_baru['Pengulangan 8'],data_kedalaman_10_baru['Pengulangan 9'],data_kedalaman_10_baru['Pengulangan 10']]\n",
    "hasilkedalaman10 = pd.concat(datatotal10)"
   ]
  },
  {
   "cell_type": "code",
   "execution_count": 61,
   "metadata": {},
   "outputs": [],
   "source": [
    "hasilkedalaman10_dot = hasilkedalaman10.to_numpy()"
   ]
  },
  {
   "cell_type": "code",
   "execution_count": 62,
   "metadata": {},
   "outputs": [
    {
     "data": {
      "text/plain": [
       "array([1.77, 0.14, 0.07, 0.12, 1.85, 0.19, 0.1 , 0.31, 0.09, 0.09, 0.12,\n",
       "       0.11, 0.12, 0.1 , 0.25, 0.12, 0.09, 0.11, 0.08, 0.14, 0.46, 0.14,\n",
       "       0.76, 0.07, 0.11, 0.17, 0.14, 0.47, 0.09, 0.13, 0.13, 0.14, 0.23,\n",
       "       0.3 , 1.5 , 0.2 , 0.13, 0.14, 0.14, 0.16, 0.3 , 1.5 , 0.12, 0.14,\n",
       "       0.07, 0.09, 1.93, 0.2 , 0.49, 0.11, 0.16, 0.12, 0.09, 0.18, 0.2 ,\n",
       "       0.49, 0.09, 0.1 , 0.13, 0.09, 0.09, 0.12, 1.23, 0.08, 0.07, 0.09,\n",
       "       0.23, 0.45, 0.14, 1.52])"
      ]
     },
     "execution_count": 62,
     "metadata": {},
     "output_type": "execute_result"
    }
   ],
   "source": [
    "hasilkedalaman10_dot"
   ]
  },
  {
   "cell_type": "code",
   "execution_count": 63,
   "metadata": {},
   "outputs": [],
   "source": [
    "hasilperbandingan = np.dot(hasilkedalaman10_dot,hasilkedalaman15_dot)"
   ]
  },
  {
   "cell_type": "code",
   "execution_count": 64,
   "metadata": {},
   "outputs": [],
   "source": [
    "from numpy.linalg import norm\n",
    "hasil = np.dot(hasilkedalaman10_dot, hasilkedalaman15_dot)/(norm(hasilkedalaman10_dot)*norm(hasilkedalaman15_dot))"
   ]
  },
  {
   "cell_type": "code",
   "execution_count": 65,
   "metadata": {},
   "outputs": [
    {
     "data": {
      "text/plain": [
       "0.2749605878040661"
      ]
     },
     "execution_count": 65,
     "metadata": {},
     "output_type": "execute_result"
    }
   ],
   "source": [
    "hasil"
   ]
  },
  {
   "cell_type": "code",
   "execution_count": 67,
   "metadata": {},
   "outputs": [
    {
     "name": "stdout",
     "output_type": "stream",
     "text": [
      "z statistic: 0.38\n",
      "p-value: 0.703\n",
      "ci 95% for control group: [0.208, 0.426]\n",
      "ci 95% for treatment group: [0.182, 0.394]\n"
     ]
    }
   ],
   "source": [
    "from statsmodels.stats.proportion import proportions_ztest, proportion_confint\n",
    "\n",
    "hasilgrupcontrol = hasilkedalaman10_dot\n",
    "hasilgruptreatment = hasilkedalaman15_dot\n",
    "n_control = 70\n",
    "n_treatment = 70\n",
    "successes = [hasilgrupcontrol.sum(), hasilgruptreatment.sum()]\n",
    "nobs = [n_control, n_treatment]\n",
    "\n",
    "z_stat, pval = proportions_ztest(successes, nobs=nobs)\n",
    "(lower_con, lower_treat), (upper_con, upper_treat) = proportion_confint(successes, nobs=nobs, alpha=0.05)\n",
    "\n",
    "print(f'z statistic: {z_stat:.2f}')\n",
    "print(f'p-value: {pval:.3f}')\n",
    "print(f'ci 95% for control group: [{lower_con:.3f}, {upper_con:.3f}]')\n",
    "print(f'ci 95% for treatment group: [{lower_treat:.3f}, {upper_treat:.3f}]')"
   ]
  },
  {
   "cell_type": "markdown",
   "metadata": {},
   "source": [
    "### IV.B.VII Visualization"
   ]
  },
  {
   "cell_type": "code",
   "execution_count": 73,
   "metadata": {},
   "outputs": [
    {
     "data": {
      "application/vnd.plotly.v1+json": {
       "config": {
        "plotlyServerURL": "https://plot.ly"
       },
       "data": [
        {
         "hovertemplate": "variable=0<br>index=%{x}<br>value=%{y}<extra></extra>",
         "legendgroup": "0",
         "line": {
          "color": "#636efa",
          "dash": "solid"
         },
         "marker": {
          "symbol": "circle"
         },
         "mode": "lines",
         "name": "0",
         "orientation": "v",
         "showlegend": true,
         "type": "scatter",
         "x": [
          0,
          1,
          2,
          3,
          4,
          5,
          6,
          7,
          8,
          9,
          10,
          11,
          12,
          13,
          14,
          15,
          16,
          17,
          18,
          19,
          20,
          21,
          22,
          23,
          24,
          25,
          26,
          27,
          28,
          29,
          30,
          31,
          32,
          33,
          34,
          35,
          36,
          37,
          38,
          39,
          40,
          41,
          42,
          43,
          44,
          45,
          46,
          47,
          48,
          49,
          50,
          51,
          52,
          53,
          54,
          55,
          56,
          57,
          58,
          59,
          60,
          61,
          62,
          63,
          64,
          65,
          66,
          67,
          68,
          69
         ],
         "xaxis": "x",
         "y": [
          1.77,
          0.14,
          0.07,
          0.12,
          1.85,
          0.19,
          0.1,
          0.31,
          0.09,
          0.09,
          0.12,
          0.11,
          0.12,
          0.1,
          0.25,
          0.12,
          0.09,
          0.11,
          0.08,
          0.14,
          0.46,
          0.14,
          0.76,
          0.07,
          0.11,
          0.17,
          0.14,
          0.47,
          0.09,
          0.13,
          0.13,
          0.14,
          0.23,
          0.3,
          1.5,
          0.2,
          0.13,
          0.14,
          0.14,
          0.16,
          0.3,
          1.5,
          0.12,
          0.14,
          0.07,
          0.09,
          1.93,
          0.2,
          0.49,
          0.11,
          0.16,
          0.12,
          0.09,
          0.18,
          0.2,
          0.49,
          0.09,
          0.1,
          0.13,
          0.09,
          0.09,
          0.12,
          1.23,
          0.08,
          0.07,
          0.09,
          0.23,
          0.45,
          0.14,
          1.52
         ],
         "yaxis": "y"
        }
       ],
       "layout": {
        "legend": {
         "title": {
          "text": "variable"
         },
         "tracegroupgap": 0
        },
        "margin": {
         "t": 60
        },
        "template": {
         "data": {
          "bar": [
           {
            "error_x": {
             "color": "#2a3f5f"
            },
            "error_y": {
             "color": "#2a3f5f"
            },
            "marker": {
             "line": {
              "color": "#E5ECF6",
              "width": 0.5
             },
             "pattern": {
              "fillmode": "overlay",
              "size": 10,
              "solidity": 0.2
             }
            },
            "type": "bar"
           }
          ],
          "barpolar": [
           {
            "marker": {
             "line": {
              "color": "#E5ECF6",
              "width": 0.5
             },
             "pattern": {
              "fillmode": "overlay",
              "size": 10,
              "solidity": 0.2
             }
            },
            "type": "barpolar"
           }
          ],
          "carpet": [
           {
            "aaxis": {
             "endlinecolor": "#2a3f5f",
             "gridcolor": "white",
             "linecolor": "white",
             "minorgridcolor": "white",
             "startlinecolor": "#2a3f5f"
            },
            "baxis": {
             "endlinecolor": "#2a3f5f",
             "gridcolor": "white",
             "linecolor": "white",
             "minorgridcolor": "white",
             "startlinecolor": "#2a3f5f"
            },
            "type": "carpet"
           }
          ],
          "choropleth": [
           {
            "colorbar": {
             "outlinewidth": 0,
             "ticks": ""
            },
            "type": "choropleth"
           }
          ],
          "contour": [
           {
            "colorbar": {
             "outlinewidth": 0,
             "ticks": ""
            },
            "colorscale": [
             [
              0,
              "#0d0887"
             ],
             [
              0.1111111111111111,
              "#46039f"
             ],
             [
              0.2222222222222222,
              "#7201a8"
             ],
             [
              0.3333333333333333,
              "#9c179e"
             ],
             [
              0.4444444444444444,
              "#bd3786"
             ],
             [
              0.5555555555555556,
              "#d8576b"
             ],
             [
              0.6666666666666666,
              "#ed7953"
             ],
             [
              0.7777777777777778,
              "#fb9f3a"
             ],
             [
              0.8888888888888888,
              "#fdca26"
             ],
             [
              1,
              "#f0f921"
             ]
            ],
            "type": "contour"
           }
          ],
          "contourcarpet": [
           {
            "colorbar": {
             "outlinewidth": 0,
             "ticks": ""
            },
            "type": "contourcarpet"
           }
          ],
          "heatmap": [
           {
            "colorbar": {
             "outlinewidth": 0,
             "ticks": ""
            },
            "colorscale": [
             [
              0,
              "#0d0887"
             ],
             [
              0.1111111111111111,
              "#46039f"
             ],
             [
              0.2222222222222222,
              "#7201a8"
             ],
             [
              0.3333333333333333,
              "#9c179e"
             ],
             [
              0.4444444444444444,
              "#bd3786"
             ],
             [
              0.5555555555555556,
              "#d8576b"
             ],
             [
              0.6666666666666666,
              "#ed7953"
             ],
             [
              0.7777777777777778,
              "#fb9f3a"
             ],
             [
              0.8888888888888888,
              "#fdca26"
             ],
             [
              1,
              "#f0f921"
             ]
            ],
            "type": "heatmap"
           }
          ],
          "heatmapgl": [
           {
            "colorbar": {
             "outlinewidth": 0,
             "ticks": ""
            },
            "colorscale": [
             [
              0,
              "#0d0887"
             ],
             [
              0.1111111111111111,
              "#46039f"
             ],
             [
              0.2222222222222222,
              "#7201a8"
             ],
             [
              0.3333333333333333,
              "#9c179e"
             ],
             [
              0.4444444444444444,
              "#bd3786"
             ],
             [
              0.5555555555555556,
              "#d8576b"
             ],
             [
              0.6666666666666666,
              "#ed7953"
             ],
             [
              0.7777777777777778,
              "#fb9f3a"
             ],
             [
              0.8888888888888888,
              "#fdca26"
             ],
             [
              1,
              "#f0f921"
             ]
            ],
            "type": "heatmapgl"
           }
          ],
          "histogram": [
           {
            "marker": {
             "pattern": {
              "fillmode": "overlay",
              "size": 10,
              "solidity": 0.2
             }
            },
            "type": "histogram"
           }
          ],
          "histogram2d": [
           {
            "colorbar": {
             "outlinewidth": 0,
             "ticks": ""
            },
            "colorscale": [
             [
              0,
              "#0d0887"
             ],
             [
              0.1111111111111111,
              "#46039f"
             ],
             [
              0.2222222222222222,
              "#7201a8"
             ],
             [
              0.3333333333333333,
              "#9c179e"
             ],
             [
              0.4444444444444444,
              "#bd3786"
             ],
             [
              0.5555555555555556,
              "#d8576b"
             ],
             [
              0.6666666666666666,
              "#ed7953"
             ],
             [
              0.7777777777777778,
              "#fb9f3a"
             ],
             [
              0.8888888888888888,
              "#fdca26"
             ],
             [
              1,
              "#f0f921"
             ]
            ],
            "type": "histogram2d"
           }
          ],
          "histogram2dcontour": [
           {
            "colorbar": {
             "outlinewidth": 0,
             "ticks": ""
            },
            "colorscale": [
             [
              0,
              "#0d0887"
             ],
             [
              0.1111111111111111,
              "#46039f"
             ],
             [
              0.2222222222222222,
              "#7201a8"
             ],
             [
              0.3333333333333333,
              "#9c179e"
             ],
             [
              0.4444444444444444,
              "#bd3786"
             ],
             [
              0.5555555555555556,
              "#d8576b"
             ],
             [
              0.6666666666666666,
              "#ed7953"
             ],
             [
              0.7777777777777778,
              "#fb9f3a"
             ],
             [
              0.8888888888888888,
              "#fdca26"
             ],
             [
              1,
              "#f0f921"
             ]
            ],
            "type": "histogram2dcontour"
           }
          ],
          "mesh3d": [
           {
            "colorbar": {
             "outlinewidth": 0,
             "ticks": ""
            },
            "type": "mesh3d"
           }
          ],
          "parcoords": [
           {
            "line": {
             "colorbar": {
              "outlinewidth": 0,
              "ticks": ""
             }
            },
            "type": "parcoords"
           }
          ],
          "pie": [
           {
            "automargin": true,
            "type": "pie"
           }
          ],
          "scatter": [
           {
            "marker": {
             "colorbar": {
              "outlinewidth": 0,
              "ticks": ""
             }
            },
            "type": "scatter"
           }
          ],
          "scatter3d": [
           {
            "line": {
             "colorbar": {
              "outlinewidth": 0,
              "ticks": ""
             }
            },
            "marker": {
             "colorbar": {
              "outlinewidth": 0,
              "ticks": ""
             }
            },
            "type": "scatter3d"
           }
          ],
          "scattercarpet": [
           {
            "marker": {
             "colorbar": {
              "outlinewidth": 0,
              "ticks": ""
             }
            },
            "type": "scattercarpet"
           }
          ],
          "scattergeo": [
           {
            "marker": {
             "colorbar": {
              "outlinewidth": 0,
              "ticks": ""
             }
            },
            "type": "scattergeo"
           }
          ],
          "scattergl": [
           {
            "marker": {
             "colorbar": {
              "outlinewidth": 0,
              "ticks": ""
             }
            },
            "type": "scattergl"
           }
          ],
          "scattermapbox": [
           {
            "marker": {
             "colorbar": {
              "outlinewidth": 0,
              "ticks": ""
             }
            },
            "type": "scattermapbox"
           }
          ],
          "scatterpolar": [
           {
            "marker": {
             "colorbar": {
              "outlinewidth": 0,
              "ticks": ""
             }
            },
            "type": "scatterpolar"
           }
          ],
          "scatterpolargl": [
           {
            "marker": {
             "colorbar": {
              "outlinewidth": 0,
              "ticks": ""
             }
            },
            "type": "scatterpolargl"
           }
          ],
          "scatterternary": [
           {
            "marker": {
             "colorbar": {
              "outlinewidth": 0,
              "ticks": ""
             }
            },
            "type": "scatterternary"
           }
          ],
          "surface": [
           {
            "colorbar": {
             "outlinewidth": 0,
             "ticks": ""
            },
            "colorscale": [
             [
              0,
              "#0d0887"
             ],
             [
              0.1111111111111111,
              "#46039f"
             ],
             [
              0.2222222222222222,
              "#7201a8"
             ],
             [
              0.3333333333333333,
              "#9c179e"
             ],
             [
              0.4444444444444444,
              "#bd3786"
             ],
             [
              0.5555555555555556,
              "#d8576b"
             ],
             [
              0.6666666666666666,
              "#ed7953"
             ],
             [
              0.7777777777777778,
              "#fb9f3a"
             ],
             [
              0.8888888888888888,
              "#fdca26"
             ],
             [
              1,
              "#f0f921"
             ]
            ],
            "type": "surface"
           }
          ],
          "table": [
           {
            "cells": {
             "fill": {
              "color": "#EBF0F8"
             },
             "line": {
              "color": "white"
             }
            },
            "header": {
             "fill": {
              "color": "#C8D4E3"
             },
             "line": {
              "color": "white"
             }
            },
            "type": "table"
           }
          ]
         },
         "layout": {
          "annotationdefaults": {
           "arrowcolor": "#2a3f5f",
           "arrowhead": 0,
           "arrowwidth": 1
          },
          "autotypenumbers": "strict",
          "coloraxis": {
           "colorbar": {
            "outlinewidth": 0,
            "ticks": ""
           }
          },
          "colorscale": {
           "diverging": [
            [
             0,
             "#8e0152"
            ],
            [
             0.1,
             "#c51b7d"
            ],
            [
             0.2,
             "#de77ae"
            ],
            [
             0.3,
             "#f1b6da"
            ],
            [
             0.4,
             "#fde0ef"
            ],
            [
             0.5,
             "#f7f7f7"
            ],
            [
             0.6,
             "#e6f5d0"
            ],
            [
             0.7,
             "#b8e186"
            ],
            [
             0.8,
             "#7fbc41"
            ],
            [
             0.9,
             "#4d9221"
            ],
            [
             1,
             "#276419"
            ]
           ],
           "sequential": [
            [
             0,
             "#0d0887"
            ],
            [
             0.1111111111111111,
             "#46039f"
            ],
            [
             0.2222222222222222,
             "#7201a8"
            ],
            [
             0.3333333333333333,
             "#9c179e"
            ],
            [
             0.4444444444444444,
             "#bd3786"
            ],
            [
             0.5555555555555556,
             "#d8576b"
            ],
            [
             0.6666666666666666,
             "#ed7953"
            ],
            [
             0.7777777777777778,
             "#fb9f3a"
            ],
            [
             0.8888888888888888,
             "#fdca26"
            ],
            [
             1,
             "#f0f921"
            ]
           ],
           "sequentialminus": [
            [
             0,
             "#0d0887"
            ],
            [
             0.1111111111111111,
             "#46039f"
            ],
            [
             0.2222222222222222,
             "#7201a8"
            ],
            [
             0.3333333333333333,
             "#9c179e"
            ],
            [
             0.4444444444444444,
             "#bd3786"
            ],
            [
             0.5555555555555556,
             "#d8576b"
            ],
            [
             0.6666666666666666,
             "#ed7953"
            ],
            [
             0.7777777777777778,
             "#fb9f3a"
            ],
            [
             0.8888888888888888,
             "#fdca26"
            ],
            [
             1,
             "#f0f921"
            ]
           ]
          },
          "colorway": [
           "#636efa",
           "#EF553B",
           "#00cc96",
           "#ab63fa",
           "#FFA15A",
           "#19d3f3",
           "#FF6692",
           "#B6E880",
           "#FF97FF",
           "#FECB52"
          ],
          "font": {
           "color": "#2a3f5f"
          },
          "geo": {
           "bgcolor": "white",
           "lakecolor": "white",
           "landcolor": "#E5ECF6",
           "showlakes": true,
           "showland": true,
           "subunitcolor": "white"
          },
          "hoverlabel": {
           "align": "left"
          },
          "hovermode": "closest",
          "mapbox": {
           "style": "light"
          },
          "paper_bgcolor": "white",
          "plot_bgcolor": "#E5ECF6",
          "polar": {
           "angularaxis": {
            "gridcolor": "white",
            "linecolor": "white",
            "ticks": ""
           },
           "bgcolor": "#E5ECF6",
           "radialaxis": {
            "gridcolor": "white",
            "linecolor": "white",
            "ticks": ""
           }
          },
          "scene": {
           "xaxis": {
            "backgroundcolor": "#E5ECF6",
            "gridcolor": "white",
            "gridwidth": 2,
            "linecolor": "white",
            "showbackground": true,
            "ticks": "",
            "zerolinecolor": "white"
           },
           "yaxis": {
            "backgroundcolor": "#E5ECF6",
            "gridcolor": "white",
            "gridwidth": 2,
            "linecolor": "white",
            "showbackground": true,
            "ticks": "",
            "zerolinecolor": "white"
           },
           "zaxis": {
            "backgroundcolor": "#E5ECF6",
            "gridcolor": "white",
            "gridwidth": 2,
            "linecolor": "white",
            "showbackground": true,
            "ticks": "",
            "zerolinecolor": "white"
           }
          },
          "shapedefaults": {
           "line": {
            "color": "#2a3f5f"
           }
          },
          "ternary": {
           "aaxis": {
            "gridcolor": "white",
            "linecolor": "white",
            "ticks": ""
           },
           "baxis": {
            "gridcolor": "white",
            "linecolor": "white",
            "ticks": ""
           },
           "bgcolor": "#E5ECF6",
           "caxis": {
            "gridcolor": "white",
            "linecolor": "white",
            "ticks": ""
           }
          },
          "title": {
           "x": 0.05
          },
          "xaxis": {
           "automargin": true,
           "gridcolor": "white",
           "linecolor": "white",
           "ticks": "",
           "title": {
            "standoff": 15
           },
           "zerolinecolor": "white",
           "zerolinewidth": 2
          },
          "yaxis": {
           "automargin": true,
           "gridcolor": "white",
           "linecolor": "white",
           "ticks": "",
           "title": {
            "standoff": 15
           },
           "zerolinecolor": "white",
           "zerolinewidth": 2
          }
         }
        },
        "xaxis": {
         "anchor": "y",
         "domain": [
          0,
          1
         ],
         "title": {
          "text": "index"
         }
        },
        "yaxis": {
         "anchor": "x",
         "domain": [
          0,
          1
         ],
         "title": {
          "text": "value"
         }
        }
       }
      }
     },
     "metadata": {},
     "output_type": "display_data"
    }
   ],
   "source": [
    "plt.plot(hasilkedalaman10_dot,kind='line')"
   ]
  },
  {
   "cell_type": "code",
   "execution_count": 74,
   "metadata": {},
   "outputs": [
    {
     "data": {
      "application/vnd.plotly.v1+json": {
       "config": {
        "plotlyServerURL": "https://plot.ly"
       },
       "data": [
        {
         "hovertemplate": "variable=0<br>index=%{x}<br>value=%{y}<extra></extra>",
         "legendgroup": "0",
         "line": {
          "color": "#636efa",
          "dash": "solid"
         },
         "marker": {
          "symbol": "circle"
         },
         "mode": "lines",
         "name": "0",
         "orientation": "v",
         "showlegend": true,
         "type": "scatter",
         "x": [
          0,
          1,
          2,
          3,
          4,
          5,
          6,
          7,
          8,
          9,
          10,
          11,
          12,
          13,
          14,
          15,
          16,
          17,
          18,
          19,
          20,
          21,
          22,
          23,
          24,
          25,
          26,
          27,
          28,
          29,
          30,
          31,
          32,
          33,
          34,
          35,
          36,
          37,
          38,
          39,
          40,
          41,
          42,
          43,
          44,
          45,
          46,
          47,
          48,
          49,
          50,
          51,
          52,
          53,
          54,
          55,
          56,
          57,
          58,
          59,
          60,
          61,
          62,
          63,
          64,
          65,
          66,
          67,
          68,
          69
         ],
         "xaxis": "x",
         "y": [
          0.25,
          0.18,
          0.07,
          1.71,
          0.71,
          0.23,
          0.2,
          0.07,
          0.18,
          0.11,
          0.09,
          0.09,
          0.08,
          0.17,
          0.07,
          0.16,
          0.09,
          0.09,
          0.1,
          0.24,
          0.6,
          0.08,
          0.17,
          0.12,
          0.1,
          0.2,
          0.24,
          0.11,
          0.1,
          0.15,
          0.08,
          0.11,
          0.48,
          0.38,
          0.21,
          0.43,
          0.07,
          0.1,
          0.11,
          0.2,
          0.38,
          0.13,
          0.12,
          0.09,
          0.09,
          0.29,
          0.08,
          3.13,
          0.29,
          0.09,
          0.12,
          0.08,
          0.19,
          0.13,
          0.26,
          0.18,
          0.12,
          0.1,
          0.11,
          0.1,
          0.15,
          2.03,
          0.12,
          0.07,
          0.07,
          0.16,
          0.13,
          0.15,
          2.03,
          0.21
         ],
         "yaxis": "y"
        }
       ],
       "layout": {
        "legend": {
         "title": {
          "text": "variable"
         },
         "tracegroupgap": 0
        },
        "margin": {
         "t": 60
        },
        "template": {
         "data": {
          "bar": [
           {
            "error_x": {
             "color": "#2a3f5f"
            },
            "error_y": {
             "color": "#2a3f5f"
            },
            "marker": {
             "line": {
              "color": "#E5ECF6",
              "width": 0.5
             },
             "pattern": {
              "fillmode": "overlay",
              "size": 10,
              "solidity": 0.2
             }
            },
            "type": "bar"
           }
          ],
          "barpolar": [
           {
            "marker": {
             "line": {
              "color": "#E5ECF6",
              "width": 0.5
             },
             "pattern": {
              "fillmode": "overlay",
              "size": 10,
              "solidity": 0.2
             }
            },
            "type": "barpolar"
           }
          ],
          "carpet": [
           {
            "aaxis": {
             "endlinecolor": "#2a3f5f",
             "gridcolor": "white",
             "linecolor": "white",
             "minorgridcolor": "white",
             "startlinecolor": "#2a3f5f"
            },
            "baxis": {
             "endlinecolor": "#2a3f5f",
             "gridcolor": "white",
             "linecolor": "white",
             "minorgridcolor": "white",
             "startlinecolor": "#2a3f5f"
            },
            "type": "carpet"
           }
          ],
          "choropleth": [
           {
            "colorbar": {
             "outlinewidth": 0,
             "ticks": ""
            },
            "type": "choropleth"
           }
          ],
          "contour": [
           {
            "colorbar": {
             "outlinewidth": 0,
             "ticks": ""
            },
            "colorscale": [
             [
              0,
              "#0d0887"
             ],
             [
              0.1111111111111111,
              "#46039f"
             ],
             [
              0.2222222222222222,
              "#7201a8"
             ],
             [
              0.3333333333333333,
              "#9c179e"
             ],
             [
              0.4444444444444444,
              "#bd3786"
             ],
             [
              0.5555555555555556,
              "#d8576b"
             ],
             [
              0.6666666666666666,
              "#ed7953"
             ],
             [
              0.7777777777777778,
              "#fb9f3a"
             ],
             [
              0.8888888888888888,
              "#fdca26"
             ],
             [
              1,
              "#f0f921"
             ]
            ],
            "type": "contour"
           }
          ],
          "contourcarpet": [
           {
            "colorbar": {
             "outlinewidth": 0,
             "ticks": ""
            },
            "type": "contourcarpet"
           }
          ],
          "heatmap": [
           {
            "colorbar": {
             "outlinewidth": 0,
             "ticks": ""
            },
            "colorscale": [
             [
              0,
              "#0d0887"
             ],
             [
              0.1111111111111111,
              "#46039f"
             ],
             [
              0.2222222222222222,
              "#7201a8"
             ],
             [
              0.3333333333333333,
              "#9c179e"
             ],
             [
              0.4444444444444444,
              "#bd3786"
             ],
             [
              0.5555555555555556,
              "#d8576b"
             ],
             [
              0.6666666666666666,
              "#ed7953"
             ],
             [
              0.7777777777777778,
              "#fb9f3a"
             ],
             [
              0.8888888888888888,
              "#fdca26"
             ],
             [
              1,
              "#f0f921"
             ]
            ],
            "type": "heatmap"
           }
          ],
          "heatmapgl": [
           {
            "colorbar": {
             "outlinewidth": 0,
             "ticks": ""
            },
            "colorscale": [
             [
              0,
              "#0d0887"
             ],
             [
              0.1111111111111111,
              "#46039f"
             ],
             [
              0.2222222222222222,
              "#7201a8"
             ],
             [
              0.3333333333333333,
              "#9c179e"
             ],
             [
              0.4444444444444444,
              "#bd3786"
             ],
             [
              0.5555555555555556,
              "#d8576b"
             ],
             [
              0.6666666666666666,
              "#ed7953"
             ],
             [
              0.7777777777777778,
              "#fb9f3a"
             ],
             [
              0.8888888888888888,
              "#fdca26"
             ],
             [
              1,
              "#f0f921"
             ]
            ],
            "type": "heatmapgl"
           }
          ],
          "histogram": [
           {
            "marker": {
             "pattern": {
              "fillmode": "overlay",
              "size": 10,
              "solidity": 0.2
             }
            },
            "type": "histogram"
           }
          ],
          "histogram2d": [
           {
            "colorbar": {
             "outlinewidth": 0,
             "ticks": ""
            },
            "colorscale": [
             [
              0,
              "#0d0887"
             ],
             [
              0.1111111111111111,
              "#46039f"
             ],
             [
              0.2222222222222222,
              "#7201a8"
             ],
             [
              0.3333333333333333,
              "#9c179e"
             ],
             [
              0.4444444444444444,
              "#bd3786"
             ],
             [
              0.5555555555555556,
              "#d8576b"
             ],
             [
              0.6666666666666666,
              "#ed7953"
             ],
             [
              0.7777777777777778,
              "#fb9f3a"
             ],
             [
              0.8888888888888888,
              "#fdca26"
             ],
             [
              1,
              "#f0f921"
             ]
            ],
            "type": "histogram2d"
           }
          ],
          "histogram2dcontour": [
           {
            "colorbar": {
             "outlinewidth": 0,
             "ticks": ""
            },
            "colorscale": [
             [
              0,
              "#0d0887"
             ],
             [
              0.1111111111111111,
              "#46039f"
             ],
             [
              0.2222222222222222,
              "#7201a8"
             ],
             [
              0.3333333333333333,
              "#9c179e"
             ],
             [
              0.4444444444444444,
              "#bd3786"
             ],
             [
              0.5555555555555556,
              "#d8576b"
             ],
             [
              0.6666666666666666,
              "#ed7953"
             ],
             [
              0.7777777777777778,
              "#fb9f3a"
             ],
             [
              0.8888888888888888,
              "#fdca26"
             ],
             [
              1,
              "#f0f921"
             ]
            ],
            "type": "histogram2dcontour"
           }
          ],
          "mesh3d": [
           {
            "colorbar": {
             "outlinewidth": 0,
             "ticks": ""
            },
            "type": "mesh3d"
           }
          ],
          "parcoords": [
           {
            "line": {
             "colorbar": {
              "outlinewidth": 0,
              "ticks": ""
             }
            },
            "type": "parcoords"
           }
          ],
          "pie": [
           {
            "automargin": true,
            "type": "pie"
           }
          ],
          "scatter": [
           {
            "marker": {
             "colorbar": {
              "outlinewidth": 0,
              "ticks": ""
             }
            },
            "type": "scatter"
           }
          ],
          "scatter3d": [
           {
            "line": {
             "colorbar": {
              "outlinewidth": 0,
              "ticks": ""
             }
            },
            "marker": {
             "colorbar": {
              "outlinewidth": 0,
              "ticks": ""
             }
            },
            "type": "scatter3d"
           }
          ],
          "scattercarpet": [
           {
            "marker": {
             "colorbar": {
              "outlinewidth": 0,
              "ticks": ""
             }
            },
            "type": "scattercarpet"
           }
          ],
          "scattergeo": [
           {
            "marker": {
             "colorbar": {
              "outlinewidth": 0,
              "ticks": ""
             }
            },
            "type": "scattergeo"
           }
          ],
          "scattergl": [
           {
            "marker": {
             "colorbar": {
              "outlinewidth": 0,
              "ticks": ""
             }
            },
            "type": "scattergl"
           }
          ],
          "scattermapbox": [
           {
            "marker": {
             "colorbar": {
              "outlinewidth": 0,
              "ticks": ""
             }
            },
            "type": "scattermapbox"
           }
          ],
          "scatterpolar": [
           {
            "marker": {
             "colorbar": {
              "outlinewidth": 0,
              "ticks": ""
             }
            },
            "type": "scatterpolar"
           }
          ],
          "scatterpolargl": [
           {
            "marker": {
             "colorbar": {
              "outlinewidth": 0,
              "ticks": ""
             }
            },
            "type": "scatterpolargl"
           }
          ],
          "scatterternary": [
           {
            "marker": {
             "colorbar": {
              "outlinewidth": 0,
              "ticks": ""
             }
            },
            "type": "scatterternary"
           }
          ],
          "surface": [
           {
            "colorbar": {
             "outlinewidth": 0,
             "ticks": ""
            },
            "colorscale": [
             [
              0,
              "#0d0887"
             ],
             [
              0.1111111111111111,
              "#46039f"
             ],
             [
              0.2222222222222222,
              "#7201a8"
             ],
             [
              0.3333333333333333,
              "#9c179e"
             ],
             [
              0.4444444444444444,
              "#bd3786"
             ],
             [
              0.5555555555555556,
              "#d8576b"
             ],
             [
              0.6666666666666666,
              "#ed7953"
             ],
             [
              0.7777777777777778,
              "#fb9f3a"
             ],
             [
              0.8888888888888888,
              "#fdca26"
             ],
             [
              1,
              "#f0f921"
             ]
            ],
            "type": "surface"
           }
          ],
          "table": [
           {
            "cells": {
             "fill": {
              "color": "#EBF0F8"
             },
             "line": {
              "color": "white"
             }
            },
            "header": {
             "fill": {
              "color": "#C8D4E3"
             },
             "line": {
              "color": "white"
             }
            },
            "type": "table"
           }
          ]
         },
         "layout": {
          "annotationdefaults": {
           "arrowcolor": "#2a3f5f",
           "arrowhead": 0,
           "arrowwidth": 1
          },
          "autotypenumbers": "strict",
          "coloraxis": {
           "colorbar": {
            "outlinewidth": 0,
            "ticks": ""
           }
          },
          "colorscale": {
           "diverging": [
            [
             0,
             "#8e0152"
            ],
            [
             0.1,
             "#c51b7d"
            ],
            [
             0.2,
             "#de77ae"
            ],
            [
             0.3,
             "#f1b6da"
            ],
            [
             0.4,
             "#fde0ef"
            ],
            [
             0.5,
             "#f7f7f7"
            ],
            [
             0.6,
             "#e6f5d0"
            ],
            [
             0.7,
             "#b8e186"
            ],
            [
             0.8,
             "#7fbc41"
            ],
            [
             0.9,
             "#4d9221"
            ],
            [
             1,
             "#276419"
            ]
           ],
           "sequential": [
            [
             0,
             "#0d0887"
            ],
            [
             0.1111111111111111,
             "#46039f"
            ],
            [
             0.2222222222222222,
             "#7201a8"
            ],
            [
             0.3333333333333333,
             "#9c179e"
            ],
            [
             0.4444444444444444,
             "#bd3786"
            ],
            [
             0.5555555555555556,
             "#d8576b"
            ],
            [
             0.6666666666666666,
             "#ed7953"
            ],
            [
             0.7777777777777778,
             "#fb9f3a"
            ],
            [
             0.8888888888888888,
             "#fdca26"
            ],
            [
             1,
             "#f0f921"
            ]
           ],
           "sequentialminus": [
            [
             0,
             "#0d0887"
            ],
            [
             0.1111111111111111,
             "#46039f"
            ],
            [
             0.2222222222222222,
             "#7201a8"
            ],
            [
             0.3333333333333333,
             "#9c179e"
            ],
            [
             0.4444444444444444,
             "#bd3786"
            ],
            [
             0.5555555555555556,
             "#d8576b"
            ],
            [
             0.6666666666666666,
             "#ed7953"
            ],
            [
             0.7777777777777778,
             "#fb9f3a"
            ],
            [
             0.8888888888888888,
             "#fdca26"
            ],
            [
             1,
             "#f0f921"
            ]
           ]
          },
          "colorway": [
           "#636efa",
           "#EF553B",
           "#00cc96",
           "#ab63fa",
           "#FFA15A",
           "#19d3f3",
           "#FF6692",
           "#B6E880",
           "#FF97FF",
           "#FECB52"
          ],
          "font": {
           "color": "#2a3f5f"
          },
          "geo": {
           "bgcolor": "white",
           "lakecolor": "white",
           "landcolor": "#E5ECF6",
           "showlakes": true,
           "showland": true,
           "subunitcolor": "white"
          },
          "hoverlabel": {
           "align": "left"
          },
          "hovermode": "closest",
          "mapbox": {
           "style": "light"
          },
          "paper_bgcolor": "white",
          "plot_bgcolor": "#E5ECF6",
          "polar": {
           "angularaxis": {
            "gridcolor": "white",
            "linecolor": "white",
            "ticks": ""
           },
           "bgcolor": "#E5ECF6",
           "radialaxis": {
            "gridcolor": "white",
            "linecolor": "white",
            "ticks": ""
           }
          },
          "scene": {
           "xaxis": {
            "backgroundcolor": "#E5ECF6",
            "gridcolor": "white",
            "gridwidth": 2,
            "linecolor": "white",
            "showbackground": true,
            "ticks": "",
            "zerolinecolor": "white"
           },
           "yaxis": {
            "backgroundcolor": "#E5ECF6",
            "gridcolor": "white",
            "gridwidth": 2,
            "linecolor": "white",
            "showbackground": true,
            "ticks": "",
            "zerolinecolor": "white"
           },
           "zaxis": {
            "backgroundcolor": "#E5ECF6",
            "gridcolor": "white",
            "gridwidth": 2,
            "linecolor": "white",
            "showbackground": true,
            "ticks": "",
            "zerolinecolor": "white"
           }
          },
          "shapedefaults": {
           "line": {
            "color": "#2a3f5f"
           }
          },
          "ternary": {
           "aaxis": {
            "gridcolor": "white",
            "linecolor": "white",
            "ticks": ""
           },
           "baxis": {
            "gridcolor": "white",
            "linecolor": "white",
            "ticks": ""
           },
           "bgcolor": "#E5ECF6",
           "caxis": {
            "gridcolor": "white",
            "linecolor": "white",
            "ticks": ""
           }
          },
          "title": {
           "x": 0.05
          },
          "xaxis": {
           "automargin": true,
           "gridcolor": "white",
           "linecolor": "white",
           "ticks": "",
           "title": {
            "standoff": 15
           },
           "zerolinecolor": "white",
           "zerolinewidth": 2
          },
          "yaxis": {
           "automargin": true,
           "gridcolor": "white",
           "linecolor": "white",
           "ticks": "",
           "title": {
            "standoff": 15
           },
           "zerolinecolor": "white",
           "zerolinewidth": 2
          }
         }
        },
        "xaxis": {
         "anchor": "y",
         "domain": [
          0,
          1
         ],
         "title": {
          "text": "index"
         }
        },
        "yaxis": {
         "anchor": "x",
         "domain": [
          0,
          1
         ],
         "title": {
          "text": "value"
         }
        }
       }
      }
     },
     "metadata": {},
     "output_type": "display_data"
    }
   ],
   "source": [
    "plt.plot(hasilkedalaman15_dot,kind='line')"
   ]
  },
  {
   "cell_type": "code",
   "execution_count": 76,
   "metadata": {},
   "outputs": [
    {
     "data": {
      "text/plain": [
       "array([ 1,  2,  3,  4,  5,  6,  7,  8,  9, 10, 11, 12, 13, 14, 15, 16, 17,\n",
       "       18, 19, 20, 21, 22, 23, 24, 25, 26, 27, 28, 29, 30, 31, 32, 33, 34,\n",
       "       35, 36, 37, 38, 39, 40, 41, 42, 43, 44, 45, 46, 47, 48, 49, 50, 51,\n",
       "       52, 53, 54, 55, 56, 57, 58, 59, 60, 61, 62, 63, 64, 65, 66, 67, 68,\n",
       "       69, 70])"
      ]
     },
     "execution_count": 76,
     "metadata": {},
     "output_type": "execute_result"
    }
   ],
   "source": [
    "ku = np.arange(1,71)\n",
    "ku"
   ]
  },
  {
   "cell_type": "code",
   "execution_count": 84,
   "metadata": {},
   "outputs": [
    {
     "data": {
      "image/png": "[encoded data removed]",
      "text/plain": [
       "<Figure size 432x288 with 1 Axes>"
      ]
     },
     "metadata": {
      "needs_background": "light"
     },
     "output_type": "display_data"
    }
   ],
   "source": [
    "import matplotlib.pyplot as plot2\n",
    "y1 = hasilkedalaman10_dot\n",
    "y2 = hasilkedalaman15_dot\n",
    "\n",
    "plot2.title('Data Kecepatan Aliran Air Sungai')\n",
    "plot2.xlabel('Titik Pengukuran')\n",
    "plot2.ylabel('Kecepatan Aliran Air L/m')\n",
    "fig1 = plot2.plot(ku,y1,label='Kedalaman 10',color='b')\n",
    "fig2 = plot2.plot(ku,y2,label='Kedalaman 15',color='r')\n",
    "plot2.legend()\n",
    "plot2.show(fig1,fig2)"
   ]
  }
 ],
 "metadata": {
  "interpreter": {
   "hash": "f9a665eed82786d1db64405b5cfd0f8037f4571b806793cb1072a84e044fc7ff"
  },
  "kernelspec": {
   "display_name": "Python 3.9.6 64-bit",
   "name": "python3"
  },
  "language_info": {
   "codemirror_mode": {
    "name": "ipython",
    "version": 3
   },
   "file_extension": ".py",
   "mimetype": "text/x-python",
   "name": "python",
   "nbconvert_exporter": "python",
   "pygments_lexer": "ipython3",
   "version": "3.9.6"
  },
  "orig_nbformat": 4
 },
 "nbformat": 4,
 "nbformat_minor": 2
}
